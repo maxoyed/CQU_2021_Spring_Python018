{
 "cells": [
  {
   "cell_type": "markdown",
   "metadata": {},
   "source": [
    "# 第2至3章练习"
   ]
  },
  {
   "cell_type": "markdown",
   "metadata": {},
   "source": [
    "## 编程题"
   ]
  },
  {
   "cell_type": "markdown",
   "metadata": {},
   "source": [
    "### 1. 性别比例\n",
    "\n",
    "#### 问题描述\n",
    "\n",
    "编写一个程序，请用户输入某班级男生和女生的人数，然后显示该班级的性别比例,结果保留两位小数。\n",
    "\n",
    "#### 输入形式\n",
    "\n",
    "男生人数\n",
    "\n",
    "女生人数\n",
    "\n",
    "#### 输出形式\n",
    "\n",
    "The male students ratio is 【百分比】,the female students ratio is 【百分比】\n",
    "\n",
    "#### 样例输入1\n",
    "\n",
    "```bash\n",
    "12\n",
    "8\n",
    "```\n",
    "\n",
    "#### 样例输出1\n",
    "\n",
    "```bash\n",
    "The male students ratio is 60.00%,the female students ratio is 40.00%\n",
    "```\n",
    "\n",
    "#### 样例输入2\n",
    "\n",
    "```bash\n",
    "8\n",
    "4\n",
    "```\n",
    "\n",
    "#### 样例输出2\n",
    "\n",
    "```bash\n",
    "The male students ratio is 66.67%,the female students ratio is 33.33%\n",
    "```"
   ]
  },
  {
   "cell_type": "code",
   "execution_count": 2,
   "metadata": {},
   "outputs": [
    {
     "name": "stdin",
     "output_type": "stream",
     "text": [
      " 8\n",
      " 4\n"
     ]
    },
    {
     "name": "stdout",
     "output_type": "stream",
     "text": [
      "The male students ratio is 66.67%,the female students ratio is 33.33%\n"
     ]
    }
   ],
   "source": [
    "male_num = int(input())\n",
    "female_num = int(input())\n",
    "total_num = male_num + female_num\n",
    "male_ratio = male_num / total_num * 100\n",
    "female_ratio = female_num /total_num * 100\n",
    "print(\"The male students ratio is {:.2f}%,the female students ratio is {:.2f}%\".format(male_ratio, female_ratio))"
   ]
  },
  {
   "cell_type": "markdown",
   "metadata": {},
   "source": [
    "### 2. 土地面积计算\n",
    "\n",
    "#### 问题描述\n",
    "\n",
    "一英亩土地等于43560平方英尺。请编写一个程序，让用户输入以平方英尺为单位输入一片土地的面积，然后计算并输出这片土地的英亩数。\n",
    "\n",
    "#### 输入形式\n",
    "\n",
    "从键盘输入土地面积（可以是整数也可以是小数）\n",
    "\n",
    "#### 输出形式\n",
    "\n",
    "土地的亩数（小数点后保留3位）\n",
    "\n",
    "#### 样例输入\n",
    "\n",
    "```bash\n",
    "1234567\n",
    "```\n",
    "\n",
    "#### 样例输出\n",
    "\n",
    "```bash\n",
    "The land area is 28.342\n",
    "```"
   ]
  },
  {
   "cell_type": "code",
   "execution_count": 4,
   "metadata": {},
   "outputs": [
    {
     "name": "stdin",
     "output_type": "stream",
     "text": [
      " 1234567\n"
     ]
    },
    {
     "name": "stdout",
     "output_type": "stream",
     "text": [
      "The land area is 28.342\n"
     ]
    }
   ],
   "source": [
    "area = float(input())\n",
    "acre = area / 43560\n",
    "print(\"The land area is {:.3f}\".format(acre))"
   ]
  },
  {
   "cell_type": "markdown",
   "metadata": {},
   "source": [
    "### 3. 平面上的两点间距离计算\n",
    "#### 问题描述\n",
    "\n",
    "输入平面上两个点A和B的坐标，(x1,y1)和(x2,y2)，完成如下任务：\n",
    "\n",
    "1. 要求使用者输入A,B的平面坐标共4个值;\n",
    "\n",
    "2. 计算并输出两点之间的距离，保留2位小数。\n",
    "\n",
    "\n",
    "#### 输入形式\n",
    "\n",
    "点A的X坐标 , 点A的Y坐标\n",
    "点B的X坐标 , 点B的Y坐标\n",
    "\n",
    "\n",
    "#### 样例输入\n",
    "\n",
    "```bash\n",
    "15,-189\n",
    "22,176\n",
    "```\n",
    "\n",
    "#### 样例输出\n",
    "\n",
    "```bash\n",
    "365.07\n",
    "```\n",
    "\n",
    "提示：X,Y坐标之间用逗号分割。"
   ]
  },
  {
   "cell_type": "code",
   "execution_count": 28,
   "metadata": {},
   "outputs": [
    {
     "name": "stdin",
     "output_type": "stream",
     "text": [
      " 15,-189\n",
      " 22,176\n"
     ]
    },
    {
     "name": "stdout",
     "output_type": "stream",
     "text": [
      "365.07\n"
     ]
    }
   ],
   "source": [
    "import math\n",
    "A = list(map(float, input().split(\",\")))\n",
    "B = list(map(float, input().split(\",\")))\n",
    "distance = math.sqrt(\n",
    "    math.pow(\n",
    "        abs(A[0] - B[0]),\n",
    "        2\n",
    "    )\n",
    "    +\n",
    "    math.pow(\n",
    "        abs(A[1] - B[1]),\n",
    "        2\n",
    "    )\n",
    ")\n",
    "print(\"{:.2f}\".format(distance))"
   ]
  },
  {
   "cell_type": "markdown",
   "metadata": {},
   "source": [
    "### 4. 计算跑道长度\n",
    "\n",
    "#### 问题描述\n",
    "\n",
    "输入飞机的名称、加速度a（米/秒的平方）和起飞速度v（米/秒)，根据以下公式计算飞机起飞所需要的最短跑道长度。\n",
    "\n",
    "length=v*v/(2a)\n",
    "\n",
    "#### 输入形式\n",
    "\n",
    "从键盘输入飞机名称、加速度a和起飞速度v，分三行输入\n",
    "\n",
    "#### 输出形式\n",
    "\n",
    "输出飞机的名称、加速度a、起飞速度v和最短跑道长度（结果保留2位小数)\n",
    "\n",
    "#### 样例输入\n",
    "\n",
    "```bash\n",
    "B350\n",
    "3.572\n",
    "60\n",
    "```\n",
    "\n",
    "#### 样例输出\n",
    "\n",
    "```bash\n",
    "The acceleration of B350 is 3.57 M / s, the take-off speed is 60.00 M / s, and the shortest take-off runway length is 503.92 M.\n",
    "```"
   ]
  },
  {
   "cell_type": "code",
   "execution_count": 30,
   "metadata": {},
   "outputs": [
    {
     "name": "stdin",
     "output_type": "stream",
     "text": [
      " B350\n",
      " 3.572\n",
      " 60\n"
     ]
    },
    {
     "name": "stdout",
     "output_type": "stream",
     "text": [
      "The acceleration of B350 is 3.57 M / s, the take-off speed is 60.00 M / s, and the shortest take-off runway length is 503.92 M.\n"
     ]
    }
   ],
   "source": [
    "name = input()\n",
    "a = float(input())\n",
    "v = float(input())\n",
    "length = v * v / (2 * a)\n",
    "print(f\"The acceleration of {name} is {a:.2f} M / s, the take-off speed is {v:.2f} M / s, and the shortest take-off runway length is {length:.2f} M.\")"
   ]
  },
  {
   "cell_type": "markdown",
   "metadata": {},
   "source": [
    "### 5. 求两个整数之商\n",
    "\n",
    "#### 问题描述\n",
    "\n",
    "输入两个整数a和b，求a/b的结果。\n",
    "\n",
    "#### 输入形式\n",
    "\n",
    "分两行输入\n",
    "\n",
    "整数a\n",
    "\n",
    "整数b\n",
    "\n",
    "#### 输出形式\n",
    "\n",
    "a/b的结果\n",
    "\n",
    "#### 样例输入\n",
    "\n",
    "```bash\n",
    "4\n",
    "2\n",
    "```\n",
    "\n",
    "#### 样例输出\n",
    "\n",
    "```bash\n",
    "2.00\n",
    "```"
   ]
  },
  {
   "cell_type": "code",
   "execution_count": 32,
   "metadata": {},
   "outputs": [
    {
     "name": "stdin",
     "output_type": "stream",
     "text": [
      " 4\n",
      " 2\n"
     ]
    },
    {
     "name": "stdout",
     "output_type": "stream",
     "text": [
      "2.00\n"
     ]
    }
   ],
   "source": [
    "a = int(input())\n",
    "b = int(input())\n",
    "result = a / b\n",
    "print(f\"{result:.2f}\")"
   ]
  },
  {
   "cell_type": "markdown",
   "metadata": {},
   "source": [
    "### 6. 输入输出姓名年龄\n",
    "\n",
    "#### 问题描述\n",
    "\n",
    "输入姓名和年龄，然后打印出来。\n",
    "\n",
    "#### 输入形式\n",
    "\n",
    "分两行输入\n",
    "\n",
    "第一行输入姓名\n",
    "\n",
    "第二行输入年龄数字字符串(可以是整数或者浮点数）\n",
    "\n",
    "#### 输出形式\n",
    "\n",
    "My name is XXX and I'm XXX years old this year.\n",
    "\n",
    "#### 样例输入1\n",
    "\n",
    "```bash\n",
    "Nicole\n",
    "18\n",
    "```\n",
    "\n",
    "#### 样例输出1\n",
    "\n",
    "```bash\n",
    "My name is Nicole and I'm 18 years old this year.\n",
    "```\n",
    "\n",
    "#### 样例输入2\n",
    "\n",
    "```bash\n",
    "liming\n",
    "21.6\n",
    "```\n",
    "#### 样例输出2\n",
    "\n",
    "```bash\n",
    "My name is liming and I'm 21 years old this year.\n",
    "```\n",
    "\n",
    "#### 样例说明\n",
    "\n",
    "输入可以是整数字符串或者浮点数字符串，如果是浮点数需要转换为对应整数输出，例如输入21.6，输出为21"
   ]
  },
  {
   "cell_type": "code",
   "execution_count": 35,
   "metadata": {},
   "outputs": [
    {
     "name": "stdin",
     "output_type": "stream",
     "text": [
      " liming\n",
      " 21.6\n"
     ]
    },
    {
     "name": "stdout",
     "output_type": "stream",
     "text": [
      "My name is liming and I'm 21 years old this year.\n"
     ]
    }
   ],
   "source": [
    "import math\n",
    "name = input()\n",
    "age = float(input())\n",
    "print(f\"My name is {name} and I'm {math.floor(age)} years old this year.\")"
   ]
  },
  {
   "cell_type": "markdown",
   "metadata": {},
   "source": [
    "## 程序片段编程题"
   ]
  },
  {
   "cell_type": "markdown",
   "metadata": {},
   "source": [
    "### 1. 小费、税和消费总额\n",
    "\n",
    "#### 问题描述\n",
    "\n",
    "请编写一个程序来计算餐厅某次点餐的消费总额。程序要求用户输入点餐的费用，然后计算税率为10%的小费和税率为7%的消费税。最后显示各项金额和消费总额。小数点后保留4位小数。\n",
    "\n",
    "#### 输入形式\n",
    "\n",
    "点餐消费总额\n",
    "#### 输出形式\n",
    "\n",
    "The consumption is 【小数点后保留4位小数】, the tip is 【小数点后保留4位小数】, the tax is 【小数点后保留4位小数】,so the total consumption is 【小数点后保留4位小数】\n",
    "\n",
    "#### 样例输入\n",
    "\n",
    "```bash\n",
    "100\n",
    "```\n",
    "\n",
    "#### 样例输出\n",
    "\n",
    "```bash\n",
    "The consumption is 100.0000, the tip is 10.0000, the tax is 7.0000,so the total consumption is 117.0000\n",
    "```\n",
    "\n",
    "```python\n",
    "consumption=eval(input())\n",
    "# blank start\n",
    "# blank end\n",
    "# blank start\n",
    "# blank end\n",
    "\n",
    "total=consumption+tip+tax\n",
    "print(\"The  consumption  is  %.4f,  the  tip  is  %.4f,  the  tax  is  %.4f,so  the  total  consumption  is  %.4f\"%(consumption,tip,tax,total))\n",
    "```"
   ]
  },
  {
   "cell_type": "code",
   "execution_count": 23,
   "metadata": {},
   "outputs": [
    {
     "name": "stdin",
     "output_type": "stream",
     "text": [
      " 100\n"
     ]
    },
    {
     "name": "stdout",
     "output_type": "stream",
     "text": [
      "The  consumption  is  100.0000,  the  tip  is  10.0000,  the  tax  is  7.0000,so  the  total  consumption  is  117.0000\n"
     ]
    }
   ],
   "source": [
    "consumption=eval(input())\n",
    "\n",
    "# blank start\n",
    "tip = consumption * 0.1\n",
    "# blank end\n",
    "# blank start\n",
    "tax = consumption * 0.07\n",
    "# blank end\n",
    "\n",
    "total=consumption+tip+tax\n",
    "print(\"The  consumption  is  %.4f,  the  tip  is  %.4f,  the  tax  is  %.4f,so  the  total  consumption  is  %.4f\"%(consumption,tip,tax,total))"
   ]
  },
  {
   "cell_type": "markdown",
   "metadata": {},
   "source": [
    "### 2. 销售利润预测\n",
    "\n",
    "#### 问题描述\n",
    "\n",
    "一家公司的年利润通常是其销售总额的25%，请编写一个程序，让用户输入预计的销售总额，然后显示其可能带来的利润。提示：\n",
    "\n",
    "用数值0.25来代表25%。\n",
    "#### 输入形式\n",
    "\n",
    "从键盘输入销售总额，销售总额可以是整数也可以是小数\n",
    "#### 输出形式\n",
    "\n",
    "The profit is: 小数\n",
    "\n",
    "#### 样例输入\n",
    "\n",
    "```bash\n",
    "100000\n",
    "```\n",
    "\n",
    "#### 样例输出\n",
    "\n",
    "```bash\n",
    "The profit is: 25000.0\n",
    "```\n",
    "\n",
    "```python\n",
    "sales=eval(input())\n",
    "# blank start\n",
    "# blank end\n",
    "print(\"The  profit  is:\",profit)\n",
    "```"
   ]
  },
  {
   "cell_type": "code",
   "execution_count": 25,
   "metadata": {},
   "outputs": [
    {
     "name": "stdin",
     "output_type": "stream",
     "text": [
      " 100000\n"
     ]
    },
    {
     "name": "stdout",
     "output_type": "stream",
     "text": [
      "The  profit  is: 25000.0\n"
     ]
    }
   ],
   "source": [
    "sales=eval(input())\n",
    "# blank start\n",
    "profit = sales * 0.25\n",
    "# blank end\n",
    "print(\"The  profit  is:\",profit)"
   ]
  }
 ],
 "metadata": {
  "kernelspec": {
   "display_name": "Python 3",
   "language": "python",
   "name": "python3"
  },
  "language_info": {
   "codemirror_mode": {
    "name": "ipython",
    "version": 3
   },
   "file_extension": ".py",
   "mimetype": "text/x-python",
   "name": "python",
   "nbconvert_exporter": "python",
   "pygments_lexer": "ipython3",
   "version": "3.8.4"
  }
 },
 "nbformat": 4,
 "nbformat_minor": 4
}
