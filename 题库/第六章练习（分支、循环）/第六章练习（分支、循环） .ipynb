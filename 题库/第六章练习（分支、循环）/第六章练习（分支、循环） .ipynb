{
 "metadata": {
  "language_info": {
   "codemirror_mode": {
    "name": "ipython",
    "version": 3
   },
   "file_extension": ".py",
   "mimetype": "text/x-python",
   "name": "python",
   "nbconvert_exporter": "python",
   "pygments_lexer": "ipython3",
   "version": "3.8.5"
  },
  "orig_nbformat": 2,
  "kernelspec": {
   "name": "python385jvsc74a57bd01de37f86fb5a69df8549b4345a566b0f5ed5dc9a9028b5b2fbf198723682cd66",
   "display_name": "Python 3.8.5 64-bit ('3.8.5': pyenv)"
  },
  "metadata": {
   "interpreter": {
    "hash": "1de37f86fb5a69df8549b4345a566b0f5ed5dc9a9028b5b2fbf198723682cd66"
   }
  }
 },
 "nbformat": 4,
 "nbformat_minor": 2,
 "cells": [
  {
   "source": [
    "## 编程题"
   ],
   "cell_type": "markdown",
   "metadata": {}
  },
  {
   "source": [
    "### 5. 题库：分段函数求值\n",
    "\n",
    "【问题描述】\n",
    "\n",
    "编写一个程序，用户输入一个值x，计算分段函数f(x)的值并输出结果，函数f(x)请用自定义函数实现。\n",
    "\n",
    "其中，\n",
    "\n",
    "![](https://img.coderai.cn/typora/1616323547052064217.png)\n",
    "\n",
    "【输入形式】\n",
    "\n",
    "x\n",
    "\n",
    "【输出形式】\n",
    "\n",
    "小数点后2位\n",
    "\n",
    "【样例输入】\n",
    "\n",
    "21.5\n",
    "\n",
    "【样例输出】\n",
    "\n",
    "2.12\n",
    "\n",
    "【样例说明】\n",
    "\n",
    "x的值可以是整数也可以是小数，甚至可以是负数"
   ],
   "cell_type": "markdown",
   "metadata": {}
  },
  {
   "cell_type": "code",
   "execution_count": 17,
   "metadata": {},
   "outputs": [
    {
     "output_type": "stream",
     "name": "stdout",
     "text": [
      "2.12\n"
     ]
    }
   ],
   "source": [
    "from math import sqrt\n",
    "def f(x):\n",
    "    if x < 20:\n",
    "        return 6. * (x**2) + 1.\n",
    "    elif 20 <= x and x < 40:\n",
    "        return sqrt(3.*x - 60.)\n",
    "    else:\n",
    "        return 100. / (x + 1.)\n",
    "\n",
    "x = float(input())\n",
    "f_x = f(x)\n",
    "\n",
    "print(\"%.2f\" % f_x)"
   ]
  },
  {
   "source": [
    "### 6. 题库：数列求和\n",
    "\n",
    "【问题描述】有一个分数数列：2/1,3/2,5/3,8/5,13/8,21/13,...,从键盘输入一个正整数n，求出这个数列的前n项之和。\n",
    "\n",
    "【输入形式】输入一个正整数n。\n",
    "\n",
    "【输出形式】输出该数列的前n项之和，并保留四位小数。\n",
    "\n",
    "【样例输入】3\n",
    "\n",
    "【样例输出】5.1667"
   ],
   "cell_type": "markdown",
   "metadata": {}
  },
  {
   "cell_type": "code",
   "execution_count": 19,
   "metadata": {},
   "outputs": [
    {
     "output_type": "stream",
     "name": "stdout",
     "text": [
      "5.1667\n"
     ]
    }
   ],
   "source": [
    "n = int(input())\n",
    "\n",
    "result = 0.\n",
    "a = 2.\n",
    "b = 1.\n",
    "\n",
    "for i in range(n):\n",
    "    result += a / b\n",
    "    t = a\n",
    "    a = a + b\n",
    "    b = t\n",
    "\n",
    "print(\"%.4f\" % result)"
   ]
  },
  {
   "source": [
    "### 7. 题库：累积求和\n",
    "\n",
    "【问题描述】从键盘不断地输入整数，当输入“#”时程序退出，然后打印出所输入整数的个数和总和。\n",
    "\n",
    "【输入形式】输入多行，每行从键盘输入一个数，直到输入#为止，则输入停止。\n",
    "\n",
    "【输出形式】输出一行，内容为以空格分隔的两个数，分别表示输入整数的个数n和这些整数的总和s。\n",
    "\n",
    "【样例输入】1\n",
    "\n",
    "                    2\n",
    "\n",
    "                    #\n",
    "\n",
    "【样例输出】2 3\n",
    "\n",
    "【样例说明】输入整数的个数为两个，1+2=2，所以和为2."
   ],
   "cell_type": "markdown",
   "metadata": {}
  },
  {
   "cell_type": "code",
   "execution_count": 20,
   "metadata": {},
   "outputs": [
    {
     "output_type": "stream",
     "name": "stdout",
     "text": [
      "2 3\n"
     ]
    }
   ],
   "source": [
    "count = 0\n",
    "summary = 0\n",
    "\n",
    "while True:\n",
    "    num = input()\n",
    "    if num == \"#\":\n",
    "        break\n",
    "    num = int(num)\n",
    "    count += 1\n",
    "    summary += num\n",
    "\n",
    "print(f\"{count} {summary}\")"
   ]
  },
  {
   "source": [
    "### 8. 题库：高度反弹\n",
    "\n",
    "【问题描述】一球从 h 米高度自由落下， 每次落地后反跳回原高度的 0.5倍； 再落下， 求它在第 N 次落地时， 共经过多少米？  \n",
    "\n",
    "【输入形式】第一行输入高度，第二行输入N\n",
    "\n",
    "【输出形式】输出两位数的浮点数\n",
    "\n",
    "【样例输入】\n",
    "\n",
    "10\n",
    "\n",
    "6\n",
    "\n",
    "【样例输出】\n",
    "\n",
    "29.38"
   ],
   "cell_type": "markdown",
   "metadata": {}
  },
  {
   "cell_type": "code",
   "execution_count": 22,
   "metadata": {},
   "outputs": [
    {
     "output_type": "stream",
     "name": "stdout",
     "text": [
      "29.38\n"
     ]
    }
   ],
   "source": [
    "h = float(input())\n",
    "N = int(input())\n",
    "\n",
    "s = h\n",
    "prev_h = h\n",
    "for i in range(1, N):\n",
    "    s += prev_h\n",
    "    prev_h /= 2.\n",
    "\n",
    "print(\"%.2f\" % s)"
   ]
  },
  {
   "source": [
    "### 9. 题库：找学生\n",
    "\n",
    "【问题描述】\n",
    "\n",
    "折半查找。 1 个列表里存储了 20 个子列表， 各子列表内存储了学生的学号及姓名两个元素， 两个元素都是字符串类型。 现已知该 20 个学生子列表已按学号递增序排好序。请设计一个程序， 使用折半查找算法通过最少次数的比较找到指定学号的学生， 如果有， 输出这个学生的学号和姓名， 如果没有， 输出报告未找到该学生。 列表中存储数据为\n",
    "\n",
    "```python\n",
    "stu_list = [['201801','zhangyi'],['201802','zhanger'],['201803','zhangsan'],['201804','zhangsi'],\n",
    "['201805','wangyi'],['201806','wanger'],['201807','wangsan'],['201808','wangsi'],['201809','liyi'],\n",
    "['201810','lier'],['201811','lisan'],['201812','lisi'],['201813','zhaoyi'],['201814','zhaoer'],\n",
    "['201815','zhaosan'],['201816','zhaosi'],['201817','zhouyi'],['201818','zhouer'],['201819','zhousan'],['201820','zhousi']]\n",
    "```\n",
    "\n",
    "【输入形式】输入要查找的学生学号\n",
    "\n",
    "【输出形式】输出学号和姓名\n",
    "\n",
    "【样例输入】201800\n",
    "\n",
    "【样例输出】None\n",
    "\n",
    "\n",
    "【样例输入】201803\n",
    "\n",
    "【样例输出】201803zhangsan"
   ],
   "cell_type": "markdown",
   "metadata": {}
  },
  {
   "cell_type": "code",
   "execution_count": 56,
   "metadata": {},
   "outputs": [
    {
     "output_type": "stream",
     "name": "stdout",
     "text": [
      "201810lier\n"
     ]
    }
   ],
   "source": [
    "from math import floor, ceil\n",
    "\n",
    "stu_list = [['201801','zhangyi'],['201802','zhanger'],['201803','zhangsan'],['201804','zhangsi'],\n",
    "['201805','wangyi'],['201806','wanger'],['201807','wangsan'],['201808','wangsi'],['201809','liyi'],\n",
    "['201810','lier'],['201811','lisan'],['201812','lisi'],['201813','zhaoyi'],['201814','zhaoer'],\n",
    "['201815','zhaosan'],['201816','zhaosi'],['201817','zhouyi'],['201818','zhouer'],['201819','zhousan'],['201820','zhousi']]\n",
    "\n",
    "def binary_search(keyword, data):\n",
    "    if len(data) == 0:\n",
    "        return None\n",
    "    \n",
    "    central = len(data) / 2\n",
    "    central_ceil = ceil(central)\n",
    "\n",
    "    if keyword == data[central_ceil - 1][0]:\n",
    "        return ''.join(data[central_ceil - 1])\n",
    "    \n",
    "    if keyword > data[central_ceil - 1][0]:\n",
    "        return binary_search(keyword, data[central_ceil:])\n",
    "    \n",
    "    if keyword < data[central_ceil - 1][0]:\n",
    "        return binary_search(keyword, data[:central_ceil - 1])\n",
    "\n",
    "stu_num = input()\n",
    "result = binary_search(stu_num, stu_list)\n",
    "print(result)"
   ]
  },
  {
   "source": [
    "### 10. 题库：python水仙花数\n",
    "\n",
    "【问题描述】\n",
    "\n",
    "输入一个整数，输出小于等于该整数的所有水仙花数，每行输出一个，若没有水仙花数则输出“none”\n",
    "\n",
    "“3位水仙花数”是指一个三位整数，其各位数字的3次方和等于该数本身。例如：ABC是一个“3位水仙花数”，则：A的3次方＋B的3次方＋C的3次方 = ABC。 \n",
    "        \n",
    "【样例输入】\n",
    "\n",
    "100\n",
    "\n",
    "【样例输出】\n",
    "\n",
    "none"
   ],
   "cell_type": "markdown",
   "metadata": {}
  },
  {
   "cell_type": "code",
   "execution_count": 60,
   "metadata": {},
   "outputs": [
    {
     "output_type": "stream",
     "name": "stdout",
     "text": [
      "153\n370\n371\n407\n"
     ]
    }
   ],
   "source": [
    "num = int(input())\n",
    "\n",
    "flag = False\n",
    "for i in range(100, num + 1):\n",
    "    i = str(i)\n",
    "    if int(i[0]) ** 3 + int(i[1]) ** 3 + int(i[2]) ** 3 == int(i):\n",
    "        print(i)\n",
    "        flag = True\n",
    "\n",
    "if flag == False:\n",
    "    print(\"none\")"
   ]
  },
  {
   "source": [
    "### 11. 考拉兹猜想\n",
    "\n",
    "【问题描述】\n",
    "\n",
    "考拉兹猜想（Collatz conjecture）又称奇偶归一猜想，是指对于每一个正整数，如果它是奇数，则对它乘3再加1,如果它是偶数，则对它除以2。 如此循环，最终都能得到1。编写一个程序，输入一个正整数，打印其考拉兹序列。\n",
    "\n",
    "【输入形式】\n",
    "\n",
    "1个>1的正整数\n",
    "\n",
    "【输出形式】\n",
    "\n",
    "以逗号分隔的考拉兹序列。\n",
    "\n",
    "【样例输入】\n",
    "\n",
    "5\n",
    "\n",
    "【样例输出】\n",
    "\n",
    "16,8,4,2,1"
   ],
   "cell_type": "markdown",
   "metadata": {}
  },
  {
   "cell_type": "code",
   "execution_count": 66,
   "metadata": {},
   "outputs": [
    {
     "output_type": "stream",
     "name": "stdout",
     "text": [
      "16,8,4,2,1\n"
     ]
    }
   ],
   "source": [
    "num = int(input())\n",
    "\n",
    "while True:\n",
    "    if num == 1:\n",
    "        break\n",
    "    if num % 2 == 1:\n",
    "        num = num * 3 + 1\n",
    "    else:\n",
    "        num = num // 2\n",
    "    end = \",\" if num != 1 else \"\\n\"\n",
    "    print(num, end=end)"
   ]
  },
  {
   "source": [
    "### 12. 题库：颜色混合器\n",
    "\n",
    "【问题描述】\n",
    "\n",
    "红色(red)、蓝色(blue)和黄色(yellow)被称为原色(primary color)。 当两种原色混合时，将得到次生色(secondary color)。\n",
    "\n",
    "规则如下： \n",
    "\n",
    "当红色与蓝色混合时，将得到紫色(purple)。 \n",
    "\n",
    "当红色与黄色混合时，将得到橙色(orange)。 \n",
    "\n",
    "当蓝色与黄色混合时，将得到绿色(green)。 \n",
    "\n",
    "编写一个程序，根据用户输入的欲混合的两种原色，输出混合得到的次生色的名称。 如果用户输入的不是三原色的名称，或者输入的两个颜色相同，则输出“error”\n",
    "\n",
    "【输入形式】\n",
    "\n",
    "原色1\n",
    "\n",
    "原色2\n",
    "\n",
    "【输出形式】\n",
    "\n",
    "次生色 or error\n",
    "\n",
    "【样例输入1】\n",
    "\n",
    "red\n",
    "\n",
    "blue\n",
    "\n",
    "【样例输出1】\n",
    "\n",
    "purple\n",
    "\n",
    "【样例输入2】\n",
    "\n",
    "red\n",
    "\n",
    "red\n",
    "\n",
    "【样例输出2】\n",
    "\n",
    "error"
   ],
   "cell_type": "markdown",
   "metadata": {}
  },
  {
   "cell_type": "code",
   "execution_count": 72,
   "metadata": {},
   "outputs": [
    {
     "output_type": "stream",
     "name": "stdout",
     "text": [
      "green\n"
     ]
    }
   ],
   "source": [
    "primary_color_1 = input()\n",
    "primary_color_2 = input()\n",
    "\n",
    "primary_colors = ['red', 'blue', 'yellow']\n",
    "mix_colors = {\n",
    "    'bluered': 'purple',\n",
    "    'redyellow': 'orange',\n",
    "    'blueyellow': 'green'\n",
    "}\n",
    "\n",
    "if primary_color_1 not in primary_colors or primary_color_2 not in primary_colors:\n",
    "    print('error')\n",
    "else:\n",
    "    input_colors = [primary_color_1, primary_color_2]\n",
    "    input_colors.sort()\n",
    "    input_colors = ''.join(input_colors)\n",
    "    print(mix_colors[input_colors])"
   ]
  },
  {
   "source": [
    "### 14. 题库：字符统计\n",
    "\n",
    "【问题描述】\n",
    "\n",
    "输入一行字符（不能输入中文字符），分别统计出该字符串英文字符、空格、数字和其他字符的个数\n",
    "\n",
    "【输入形式】\n",
    "\n",
    "字符串\n",
    "\n",
    "【输出形式】\n",
    "\n",
    "英文字符个数 空格个数 数字字符个数 其他字符个数\n",
    "\n",
    "【样例输入】\n",
    "\n",
    "abcd 1 2 3 4!@#$$%^\n",
    "\n",
    "【样例输出】\n",
    "\n",
    "4 4 4 7\n",
    "\n",
    "【样例说明】\n",
    "\n",
    "输出数字之间用空格隔开"
   ],
   "cell_type": "markdown",
   "metadata": {}
  },
  {
   "cell_type": "code",
   "execution_count": 101,
   "metadata": {},
   "outputs": [
    {
     "output_type": "stream",
     "name": "stdout",
     "text": [
      "4 4 4 7\n"
     ]
    }
   ],
   "source": [
    "string = input()\n",
    "\n",
    "result = [0,0,0,0]\n",
    "char_range = [chr(code) for code in range(ord('a'), ord('z'))]\n",
    "char_range += [chr(code) for code in range(ord('A'), ord('Z'))]\n",
    "number_range = [str(num) for num in range(10)]\n",
    "\n",
    "for char in string:\n",
    "    if char in char_range:\n",
    "        result[0] += 1\n",
    "    elif char == ' ':\n",
    "        result[1] += 1\n",
    "    elif char in number_range:\n",
    "        result[2] += 1\n",
    "    else:\n",
    "        result[3] += 1\n",
    "\n",
    "print(' '.join([str(i) for i in result]))"
   ]
  },
  {
   "source": [
    "### 15. 题库：月份对应的季节\n",
    "\n",
    "【问题描述】\n",
    "\n",
    "根据用户输入的月份，打印该月份所属的季节，如果输入的数据不在1~12范围内，输出“error\" \n",
    "\n",
    "提示：3，4，5 spring ；6，7，8 summer ；9，10，11 autumn ；12，1，2 winter\n",
    "\n",
    "【输入形式】\n",
    "\n",
    "月份（整数）\n",
    "\n",
    "【输出形式】\n",
    "\n",
    "spring or summer or autumn or winter or error\n",
    "\n",
    "【样例输入】\n",
    "\n",
    "3\n",
    "\n",
    "【样例输出】\n",
    "\n",
    "spring"
   ],
   "cell_type": "markdown",
   "metadata": {}
  },
  {
   "cell_type": "code",
   "execution_count": 102,
   "metadata": {},
   "outputs": [
    {
     "output_type": "stream",
     "name": "stdout",
     "text": [
      "spring\n"
     ]
    }
   ],
   "source": [
    "month = int(input())\n",
    "\n",
    "if month in [3, 4, 5]:\n",
    "    print('spring')\n",
    "elif month in [6, 7, 8]:\n",
    "    print('summer')\n",
    "elif month in [9, 10, 11]:\n",
    "    print('autumn')\n",
    "elif month in [12, 1, 2]:\n",
    "    print('winter')\n",
    "else:\n",
    "    print('error')"
   ]
  },
  {
   "source": [
    "### 16. 题库：轮盘赌的颜色\n",
    "\n",
    "【问题描述】\n",
    "\n",
    "在一个赌博用的转盘上，口袋的编号是从0到36，口袋的颜色如下： \n",
    "\n",
    "从1号袋到10号袋，奇数的口袋是红色，偶数的口袋是黑色。\n",
    "\n",
    "从11号袋到18号袋，奇数的口袋是黑色，偶数的口袋是红色。\n",
    "\n",
    "从19号袋到28号袋，奇数的口袋是红色，偶数的口袋是黑色。 \n",
    "\n",
    "从29号袋到36号袋，奇数的口袋是黑色，偶数的口袋是红色。\n",
    "\n",
    "0号口袋是绿色\n",
    "\n",
    "请编写一个程序，根据用户输入的口袋编号，输出口袋的颜色。 如果用户输入的数字不在0~36这个范围内，则输出“error”。\n",
    "\n",
    "【输入形式】\n",
    "\n",
    "整数\n",
    "\n",
    "【输出形式】\n",
    "\n",
    "green or red or black or error\n",
    "\n",
    "【样例输入1】\n",
    "\n",
    "0\n",
    "\n",
    "【样例输出1】\n",
    "\n",
    "green\n",
    "\n",
    "【样例输入2】\n",
    "\n",
    "11\n",
    "\n",
    "【样例输出2】\n",
    "\n",
    "black"
   ],
   "cell_type": "markdown",
   "metadata": {}
  },
  {
   "cell_type": "code",
   "execution_count": 105,
   "metadata": {},
   "outputs": [
    {
     "output_type": "stream",
     "name": "stdout",
     "text": [
      "error\n"
     ]
    }
   ],
   "source": [
    "num = int(input())\n",
    "\n",
    "result = ''\n",
    "if num < 0 or num > 36:\n",
    "    result = 'error'\n",
    "elif num == 0:\n",
    "    result = 'green'\n",
    "elif (num >= 1 and num <= 10) or (num >= 19 and num <= 28):\n",
    "    result = 'red' if num % 2 == 1 else 'black'\n",
    "else:\n",
    "    result = 'black' if num % 2 == 1 else 'red'\n",
    "\n",
    "print(result)"
   ]
  },
  {
   "source": [
    "### 17. 题库：前n个回文素数\n",
    "\n",
    "【问题描述】\n",
    "\n",
    "输入一个正整数n，输出前n个既是回文又是素数的数，要求每行输出10个数并以空格隔开\n",
    "\n",
    "回文素数：一种既是回文数又是素数的数字\n",
    "\n",
    "“回文数“是指正读反读都一样的数字，\n",
    "\n",
    "素数指在大于1的自然数中，除了1和它本身以外不再有其它因数的自然数\n",
    "\n",
    "【输入形式】一个正整数\n",
    "\n",
    "【输出形式】每行输出10个回文素数，每个数占据6个字宽（即：以{:6}的方式输出）。\n",
    "\n",
    "【样例输入】3\n",
    "\n",
    "【样例输出】2 3 5 \n",
    "\n",
    "【样例输入】13\n",
    "\n",
    "【样例输出】 \n",
    "\n",
    "```\n",
    "    2     3     5     7    11   101   131   151   181   191\n",
    "\n",
    "  313   353   373 \n",
    "```"
   ],
   "cell_type": "markdown",
   "metadata": {}
  },
  {
   "cell_type": "code",
   "execution_count": 120,
   "metadata": {},
   "outputs": [
    {
     "output_type": "stream",
     "name": "stdout",
     "text": [
      "     2     3     5     7    11   101   131   151   181   191\n\n   313   353   373"
     ]
    }
   ],
   "source": [
    "def is_palindrome(num: int) -> bool:\n",
    "    num = list(str(num))\n",
    "    num_copy = num.copy()\n",
    "    num.reverse()\n",
    "    if num == num_copy:\n",
    "        return True\n",
    "    return False\n",
    "\n",
    "def is_prime(num: int) -> bool:\n",
    "    for i in range(2, num):\n",
    "        if num % i == 0:\n",
    "            return False\n",
    "    return True\n",
    "\n",
    "n = int(input())\n",
    "number = 2\n",
    "result = []\n",
    "\n",
    "while True:\n",
    "    if len(result) == n:\n",
    "        break\n",
    "    if is_palindrome(number) and is_prime(number):\n",
    "        result.append(number)\n",
    "    number += 1\n",
    "\n",
    "counter = 0\n",
    "for i in result:\n",
    "    if counter == 10 or counter == len(result):\n",
    "        counter = 0\n",
    "        print('\\n')\n",
    "    print(f'{i:6}', end='')\n",
    "    counter += 1"
   ]
  },
  {
   "source": [
    "### 18. 题库：加密数据\n",
    "\n",
    "【问题描述】\n",
    "\n",
    "加密数据。从键盘输入一段数字， 加密规则如下：对于每一个位置上的数字进行如下处理： 每位数字加上 5， 然后除以 10 得到的余数代替该数字， 再将第一位和最后一位交换，第二位与倒数第二位交换， 依此类推， 最后输出加密后的数字密码 。\n",
    "\n",
    "【输入形式】\n",
    "\n",
    "输入一行数字\n",
    "\n",
    "【输出形式】\n",
    "\n",
    "输出加密后的结果\n",
    "\n",
    "【样例输入】\n",
    "\n",
    "123\n",
    "\n",
    "【样例输出】\n",
    "\n",
    "876\n",
    "\n",
    "【样例输入】\n",
    "\n",
    "321\n",
    "\n",
    "【样例输出】\n",
    "\n",
    "678"
   ],
   "cell_type": "markdown",
   "metadata": {}
  },
  {
   "cell_type": "code",
   "execution_count": 129,
   "metadata": {},
   "outputs": [
    {
     "output_type": "stream",
     "name": "stdout",
     "text": [
      "6\n"
     ]
    }
   ],
   "source": [
    "raw_number = [int(i) for i in list(input())]\n",
    "password = [(i + 5) % 10 for i in raw_number]\n",
    "password.reverse()\n",
    "password = [str(i) for i in password]\n",
    "print(''.join(password))"
   ]
  },
  {
   "source": [
    "### 19. 题库：组合数字\n",
    "\n",
    "【问题描述】从键盘输入两个整数n和m（要求n<m），编程求出由n到m(不包含m)中的整数组合而成的所有不含重复数字的三位数。若n和m的输入不合法或者没有符合条件的三位数则提示输出“illegal input\"。\n",
    "\n",
    "【输入形式】输入一行，内容为两个以空格分隔的整数，分别表示n和m。\n",
    "\n",
    "【输出形式】以空格分隔输出所有符合条件的三位数。\n",
    "\n",
    "【样例输入】1 4\n",
    "\n",
    "【样例输出】123 132 213 231 312 321\n",
    "\n",
    "【样例输入】2 4\n",
    "\n",
    "【样例输出】illegal input\n",
    "\n",
    "【样例输入】0 3\n",
    "\n",
    "【样例输出】102 120 201 210\n",
    "\n"
   ],
   "cell_type": "markdown",
   "metadata": {}
  },
  {
   "cell_type": "code",
   "execution_count": 145,
   "metadata": {},
   "outputs": [
    {
     "output_type": "stream",
     "name": "stdout",
     "text": [
      "102 120 201 210 "
     ]
    }
   ],
   "source": [
    "n, m = [int(i) for i in input().split(' ')]\n",
    "\n",
    "if n >= m or len(range(n, m)) < 3:\n",
    "    print('illegal input')\n",
    "else:\n",
    "    for i in range(n, m):\n",
    "        if i != 0:\n",
    "            for j in range(n, m):\n",
    "                for k in range(n, m):\n",
    "                    if i != j and j != k and i != k:\n",
    "                        print(f'{i}{j}{k}', end=' ')\n"
   ]
  },
  {
   "source": [
    "### 20. 题库：罗马数字转整数\n",
    "\n",
    "【问题描述】\n",
    "\n",
    "罗马数字包含以下七种字符：I、V、X、L、C、D和M。\n",
    "\n",
    "字符          数值\n",
    "\n",
    "I                   1\n",
    "\n",
    "V                  5\n",
    "\n",
    "X                10\n",
    "\n",
    "L                 50\n",
    "\n",
    "C               100\n",
    "\n",
    "D               500\n",
    "\n",
    "M             1000\n",
    "\n",
    "例如， 罗马数字 2 写做 II ，即为两个并列的 1。12 写做 XII ，即为 X + II 。 27 写做  XXVII, 即为 XX + V + II 。\n",
    "\n",
    "通常情况下，罗马数字中小的数字在大的数字的右边。但也存在特例，例如 4 不写做 IIII，而是 IV。数字 1 在数字 5 的左边，所表示的数等于大数 5 减小数 1 得到的数值 4 。同样地，数字 9 表示为 IX。这个特殊的规则只适用于以下六种情况：\n",
    "\n",
    "I 可以放在 V (5) 和 X (10) 的左边，来表示 4 和 9。\n",
    "\n",
    "X 可以放在 L (50) 和 C (100) 的左边，来表示 40 和 90。 \n",
    "\n",
    "C 可以放在 D (500) 和 M (1000) 的左边，来表示 400 和 900。\n",
    "\n",
    "给定一个罗马数字，将其转换成整数。输入确保在 1 到 3999 的范围内。\n",
    "\n",
    "【输入形式】输入一串罗马数字\n",
    "\n",
    "【输出形式】整数\n",
    "\n",
    "【样例输入】I\n",
    "\n",
    "【样例输出】1\n",
    "\n",
    "【样例输入】IXVI\n",
    "\n",
    "【样例输出】15\n",
    "\n",
    "【样例说明】IX(9)+V(5)+I(1)=15"
   ],
   "cell_type": "markdown",
   "metadata": {}
  },
  {
   "cell_type": "code",
   "execution_count": 155,
   "metadata": {},
   "outputs": [
    {
     "output_type": "stream",
     "name": "stdout",
     "text": [
      "15\n"
     ]
    }
   ],
   "source": [
    "string = input()\n",
    "revert_rule = [['IV', 4], ['IX', 9], ['XL', 40], ['XC', 90], ['CD', 400], ['CM', 900], ['I', 1], ['V', 5], ['X', 10], ['L', 50], ['C', 100], ['D', 500], ['M', 1000]]\n",
    "\n",
    "for rule in revert_rule:\n",
    "    string = string.replace(rule[0], f'{rule[1]} ')\n",
    "\n",
    "result = [int(i) for i in string.strip().split(' ')]\n",
    "print(sum(result))"
   ]
  },
  {
   "source": [
    "### 21. 题库：质因数分解\n",
    "\n",
    "【问题描述】\n",
    "\n",
    "输入一个正整数， 将这个正整数分解成质因数之积。 \n",
    "\n",
    "例如：输入 90,打印出 `90=2*3*3*5` (因为 1 不是质因数， 所以 `90=1*2*3*3*5` 是错误的； \n",
    "\n",
    "11=11 是正确的， 而 `11=1*11` 是错误的) \n",
    "\n",
    "质因数：只能被自己整除的数，1除外，因此1不是质因数\n",
    "\n",
    "【样例输入】\n",
    "\n",
    "90\n",
    "\n",
    "【样例输出】\n",
    "\n",
    "`90=2*3*3*5`\n",
    "\n",
    "【样例输入】\n",
    "\n",
    "11\n",
    "\n",
    "【样例输出】\n",
    "\n",
    "11=11"
   ],
   "cell_type": "markdown",
   "metadata": {}
  },
  {
   "cell_type": "code",
   "execution_count": 180,
   "metadata": {},
   "outputs": [
    {
     "output_type": "stream",
     "name": "stdout",
     "text": [
      "90=2*3*3*5\n"
     ]
    }
   ],
   "source": [
    "def is_prime_factor(num: int) -> bool:\n",
    "    if num < 2:\n",
    "        return False\n",
    "    for i in range(2, num):\n",
    "        if num % i == 0:\n",
    "            return False\n",
    "    return True\n",
    "\n",
    "\n",
    "def decompose(num: int) -> list:\n",
    "    result = []\n",
    "    for i in range(2, num + 1):\n",
    "        if num % i == 0 and is_prime_factor(i):\n",
    "            result.append(str(i))\n",
    "            if is_prime_factor(num // i):\n",
    "                result.append(str(num // i))\n",
    "            else:\n",
    "                result += decompose(num // i)\n",
    "            return result\n",
    "    return result\n",
    "\n",
    "\n",
    "number = int(input())\n",
    "factors = decompose(number)\n",
    "print(f\"{number}={'*'.join(factors)}\")"
   ]
  }
 ]
}