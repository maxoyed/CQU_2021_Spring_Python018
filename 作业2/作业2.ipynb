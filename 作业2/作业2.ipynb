{
 "metadata": {
  "language_info": {
   "codemirror_mode": {
    "name": "ipython",
    "version": 3
   },
   "file_extension": ".py",
   "mimetype": "text/x-python",
   "name": "python",
   "nbconvert_exporter": "python",
   "pygments_lexer": "ipython3",
   "version": "3.8.5"
  },
  "orig_nbformat": 2,
  "kernelspec": {
   "name": "python385jvsc74a57bd01de37f86fb5a69df8549b4345a566b0f5ed5dc9a9028b5b2fbf198723682cd66",
   "display_name": "Python 3.8.5 64-bit ('3.8.5': pyenv)"
  },
  "metadata": {
   "interpreter": {
    "hash": "1de37f86fb5a69df8549b4345a566b0f5ed5dc9a9028b5b2fbf198723682cd66"
   }
  }
 },
 "nbformat": 4,
 "nbformat_minor": 2,
 "cells": [
  {
   "source": [
    "### 1. 题库：删除列表中的重复值 -《Python编程基础及应用》习题4-8\n",
    "\n",
    "【问题描述】\n",
    "\n",
    "输入一个列表，删除其中的重复值，再输出。\n",
    "\n",
    "要求：假设列表中存在k个值为a的元素，删除前k-1个元素，保留最后一个。 不同元素在列表中的相对位置不应被改变。\n",
    "\n",
    "\n",
    "【输入形式】\n",
    "\n",
    "`[元素1， 元素2, ... , 元素n]`\n",
    "\n",
    "\n",
    "【输出形式】\n",
    "\n",
    "`[元素1，元素2, ... , 元素k]`\n",
    "\n",
    "\n",
    "【样例输入】\n",
    "\n",
    "`[4,3,2,3,2,4,True]`\n",
    "\n",
    "【样例输出】\n",
    "\n",
    "`[3, 2, 4, True]`\n",
    "\n",
    "【样例说明】\n",
    "\n",
    "提示：将形如\"`[1,3,5]`\"的字符串转换成列表可以使用eval()函数。 注意，输出格式应与输出样例一致，涉及空格，逗号等。\n",
    "\n",
    "切不可一边遍历列表，一边删除列表中的元素。"
   ],
   "cell_type": "markdown",
   "metadata": {}
  },
  {
   "cell_type": "code",
   "execution_count": 12,
   "metadata": {},
   "outputs": [
    {
     "output_type": "stream",
     "name": "stdout",
     "text": [
      "[3, 2, 4, True]\n"
     ]
    }
   ],
   "source": [
    "raw_list = list(eval(input()))\n",
    "raw_list.reverse()\n",
    "result = []\n",
    "\n",
    "for i in raw_list:\n",
    "    if i not in result:\n",
    "        result.append(i)\n",
    "\n",
    "result.reverse()\n",
    "print(result)"
   ]
  },
  {
   "source": [
    "### 2. 题库：把列表里面的个位正整数组合成一个最大的整数\n",
    "\n",
    "【问题描述】\n",
    "\n",
    "读入一个正整数列表，每个正整数都只有一位。把这些列表里面的数字，按位数组织成一个最大的整数，每个数字占据一位，不能重复使用。然后输出这个数字。例如列表 `[1,2,3,4]` 可以组成1234, 或者4321等多个整数。输出最大整数。\n",
    "\n",
    "【输入形式】\n",
    "\n",
    "一个包含一位自然数的列表\n",
    "\n",
    "【输出形式】\n",
    "\n",
    "整数\n",
    "\n",
    "【样例输入】\n",
    "\n",
    "`[0,1,2,3,2]`\n",
    "\n",
    "【样例输出】\n",
    "\n",
    "32210"
   ],
   "cell_type": "markdown",
   "metadata": {}
  },
  {
   "cell_type": "code",
   "execution_count": 16,
   "metadata": {},
   "outputs": [
    {
     "output_type": "stream",
     "name": "stdout",
     "text": [
      "32210\n"
     ]
    }
   ],
   "source": [
    "raw_list = list(eval(input()))\n",
    "raw_list.sort(reverse=True)\n",
    "\n",
    "raw_list = [str(item) for item in raw_list]\n",
    "result = int(\"\".join(raw_list))\n",
    "\n",
    "print(result)"
   ]
  },
  {
   "source": [
    "### 3. 题库：把姓名和成绩列表合并后按照成绩升序排列\n",
    "\n",
    "【问题描述】\n",
    "\n",
    "已知一个列表存放学生姓名，另外一个列表存放学生成绩。把姓名和成绩配对后，形成一个嵌套列表，按照成绩升序输出列表。\n",
    "\n",
    "【输入形式】\n",
    "\n",
    "第一行输入姓名，每个姓名用逗号分隔。第二行输入成绩，按照逗号分隔。\n",
    "\n",
    "【输出形式】\n",
    "\n",
    "直接用print输出列表\n",
    "\n",
    "【样例输入】\n",
    "\n",
    "tom,james,jack\n",
    "\n",
    "89,34,78\n",
    "\n",
    "【样例输出】\n",
    "\n",
    "```[['james', 34], ['jack', 78], ['tom', 89]]```\n",
    "\n",
    "【样例说明】\n",
    "\n",
    "直接输出嵌套列表，姓名和成绩组合在一起。"
   ],
   "cell_type": "markdown",
   "metadata": {}
  },
  {
   "cell_type": "code",
   "execution_count": 29,
   "metadata": {},
   "outputs": [
    {
     "output_type": "stream",
     "name": "stdout",
     "text": [
      "[['james', 34], ['jack', 78], ['tom', 89]]\n"
     ]
    }
   ],
   "source": [
    "names = input().split(\",\")\n",
    "grades = [int(item) for item in input().split(\",\")]\n",
    "\n",
    "result = list(zip(names, grades))\n",
    "result = [list(item) for item in result]\n",
    "result.sort(key=lambda item: item[1])\n",
    "\n",
    "print(result)"
   ]
  },
  {
   "source": [
    "### 4. 题库：列表生成及循环左移 -《Python编程基础及应用》\n",
    "\n",
    "【问题描述】\n",
    "\n",
    "从键盘读入一个整数n, 并完成下述任务：\n",
    "\n",
    "使用快速列表生成语法生成列表 `[1, 2, ... ,n-1, n]`;\n",
    "\n",
    "使用for循环将列表循环左移一个位置；\n",
    "\n",
    "输出循环左移后的列表。\n",
    "\n",
    "【输入形式】\n",
    "\n",
    "n\n",
    "\n",
    "【输出形式】\n",
    "\n",
    "`[2, 3, ... , n, 1]`\n",
    "\n",
    "\n",
    "【样例输入】\n",
    "\n",
    "5\n",
    "\n",
    "【样例输出】\n",
    "\n",
    "`[2, 3, 4, 5, 1]`\n",
    "\n",
    "说明：符号均为英文符号，注意数字间可能包含空格。"
   ],
   "cell_type": "markdown",
   "metadata": {}
  },
  {
   "cell_type": "code",
   "execution_count": 35,
   "metadata": {},
   "outputs": [
    {
     "output_type": "stream",
     "name": "stdout",
     "text": [
      "1 [2, 3, 4, 5]\n[2, 3, 4, 5, 1]\n"
     ]
    }
   ],
   "source": [
    "n = int(input())\n",
    "\n",
    "arr = list(range(1, n+1))\n",
    "first_el = arr.pop(0)\n",
    "arr.append(first_el)\n",
    "arr = [str(item) for item in arr]\n",
    "result = f\"[{', '.join(arr)}]\"\n",
    "\n",
    "print(result)"
   ]
  },
  {
   "source": [
    "### 5. 题库：把由负整数构成的列表中的每个数转换成二进制补码形式\n",
    "\n",
    "【问题描述】\n",
    "\n",
    "已知一个列表，这个列表中的每个元素都是负整数，依次把这个列表中的每个数转成用32位二进制表示的补码形式，放入另外一个列表进行输出。\n",
    "\n",
    "【输入形式】\n",
    "\n",
    "用列表的形式进行输入，包括方括号，每个元素用逗号分隔\n",
    "\n",
    "【输出形式】\n",
    "\n",
    "直接用print输出列表\n",
    "\n",
    "【样例输入】\n",
    "\n",
    "`[-1,-2,-3]`\n",
    "\n",
    "【样例输出】\n",
    "\n",
    "`['0b11111111111111111111111111111111', '0b11111111111111111111111111111110', '0b11111111111111111111111111111101']`\n",
    "\n",
    "\n",
    "\n",
    "【样例说明】\n",
    "\n",
    "输出列表中的每个元素，都是对应的负整数的二进制形式。"
   ],
   "cell_type": "markdown",
   "metadata": {}
  },
  {
   "cell_type": "code",
   "execution_count": 43,
   "metadata": {},
   "outputs": [
    {
     "output_type": "stream",
     "name": "stdout",
     "text": [
      "['0b11111111111111111111111111111111', '0b11111111111111111111111111111110', '0b11111111111111111111111111111101']\n"
     ]
    }
   ],
   "source": [
    "raw_list = eval(input())\n",
    "result = [bin(item+(1<<32)) for item in raw_list]\n",
    "print(result)"
   ]
  },
  {
   "source": [
    "### 6. 题库：学生成绩排序\n",
    "\n",
    "【问题描述】\n",
    "\n",
    "文件score.txt中存储了若干学生的姓名、学号和3门考试课的成绩\n",
    "\n",
    "要求：按总分从高到低输出学生成绩记录（按学号、姓名、三门课成绩的顺序）到文件sorted.txt\n",
    "\n",
    "【输入形式】\n",
    "\n",
    "文件中每行为一个学生信息，形式为：姓名，学号，成绩1，成绩2，成绩3\n",
    "\n",
    "【输出形式】\n",
    "\n",
    "按照总分从高到低输出学生信息到文件sorted.txt，每行一个学生的信息，输出形式为：学号，姓名，成绩1，成绩2，成绩3\n",
    "\n",
    "【样例输入】\n",
    "\n",
    "Zhang,2011010101,66,77,88\n",
    "\n",
    "Li,2011010102,55,48,68\n",
    "\n",
    "Wang,2011010103,78,87,92\n",
    "\n",
    "Zhao,2011010104,53,34,55\n",
    "\n",
    "Liu,2011010105,55,65,75\n",
    "\n",
    "【样例输出】\n",
    "\n",
    "2011010103,Wang,78,87,92\n",
    "\n",
    "2011010101,Zhang,66,77,88\n",
    "\n",
    "2011010105,Liu,55,65,75\n",
    "\n",
    "2011010102,Li,55,48,68\n",
    "\n",
    "2011010104,Zhao,53,34,55"
   ],
   "cell_type": "markdown",
   "metadata": {}
  },
  {
   "cell_type": "code",
   "execution_count": 1,
   "metadata": {},
   "outputs": [],
   "source": [
    "import csv\n",
    "sorted_score = \"\"\n",
    "\n",
    "raw_data = open('score.txt', 'r')\n",
    "score = [list(item.strip().split(\",\")) for item in raw_data.readlines()]\n",
    "score = [[int(row[1]), row[0]] + list(map(int, row[2:])) for row in score]\n",
    "score.sort(key=lambda k: sum(k[2:]), reverse=True)\n",
    "csv.writer(open('sorted.txt', 'w+')).writerows(score)"
   ]
  },
  {
   "source": [
    "### 7. 题库：在列表中找出有相同度的最小连续子列表，输出其长度\n",
    "\n",
    "【问题描述】\n",
    "\n",
    "给定一个只包含自然数的列表 nums。列表的度指的是任一元素出现频率的最大值。找出与 nums 拥有相同大小的度的最短连续子列表。输出这个子列表的长度。\n",
    "\n",
    "\n",
    "【输入形式】\n",
    "\n",
    "一个列表，包括方括号，逗号分隔\n",
    "\n",
    "【输出形式】\n",
    "\n",
    "整数\n",
    "\n",
    "【样例输入】\n",
    "\n",
    "`[1, 2, 2, 3, 1]`\n",
    "\n",
    "【样例输出】\n",
    "\n",
    "2\n",
    "\n",
    "【样例说明】\n",
    "\n",
    "输入列表的度是2，因为元素1和2的出现频数最大，均为2。连续子列表里面拥有相同度的有如下所示:\n",
    "\n",
    "`[1, 2, 2, 3, 1], [1, 2, 2, 3], [2, 2, 3, 1], [1, 2, 2], [2, 2, 3], [2, 2]`\n",
    "\n",
    "最短连续子数组`[2, 2]`的长度为2，输出2."
   ],
   "cell_type": "markdown",
   "metadata": {}
  },
  {
   "cell_type": "code",
   "execution_count": 85,
   "metadata": {},
   "outputs": [
    {
     "output_type": "stream",
     "name": "stdout",
     "text": [
      "1\n"
     ]
    }
   ],
   "source": [
    "def get_degree(arr):\n",
    "    items = list(set(arr))\n",
    "    counts = [arr.count(item) for item in items]\n",
    "    counts.sort(reverse=True)\n",
    "    return counts[0]\n",
    "\n",
    "nums = eval(input())\n",
    "nums_degree = get_degree(nums)\n",
    "min_length = len(nums)\n",
    "\n",
    "for i in range(len(nums)+1):\n",
    "    for j in range(1, len(nums)+1 - i):\n",
    "        if get_degree(nums[i:i+j]) == nums_degree and len(nums[i:i+j]) < min_length:\n",
    "            min_length = len(nums[i:i+j])\n",
    "\n",
    "print(min_length)"
   ]
  }
 ]
}