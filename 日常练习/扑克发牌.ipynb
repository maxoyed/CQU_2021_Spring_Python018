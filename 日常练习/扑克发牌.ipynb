{
 "metadata": {
  "language_info": {
   "codemirror_mode": {
    "name": "ipython",
    "version": 3
   },
   "file_extension": ".py",
   "mimetype": "text/x-python",
   "name": "python",
   "nbconvert_exporter": "python",
   "pygments_lexer": "ipython3",
   "version": "3.8.5"
  },
  "orig_nbformat": 2,
  "kernelspec": {
   "name": "python385jvsc74a57bd01de37f86fb5a69df8549b4345a566b0f5ed5dc9a9028b5b2fbf198723682cd66",
   "display_name": "Python 3.8.5 64-bit ('3.8.5': pyenv)"
  },
  "metadata": {
   "interpreter": {
    "hash": "1de37f86fb5a69df8549b4345a566b0f5ed5dc9a9028b5b2fbf198723682cd66"
   }
  }
 },
 "nbformat": 4,
 "nbformat_minor": 2,
 "cells": [
  {
   "source": [
    "### 1. 生成扑克字符列表"
   ],
   "cell_type": "markdown",
   "metadata": {}
  },
  {
   "cell_type": "code",
   "execution_count": 2,
   "metadata": {},
   "outputs": [],
   "source": [
    "digits = [str(x) for x in range(2,11)]\n",
    "all_char = digits + list('JKQA')"
   ]
  },
  {
   "source": [
    "### 2. 通过嵌套列表推导式生成所有卡牌"
   ],
   "cell_type": "markdown",
   "metadata": {}
  },
  {
   "cell_type": "code",
   "execution_count": 3,
   "metadata": {},
   "outputs": [],
   "source": [
    "poker_cards = [\n",
    "    color + char for color in [\"红桃\",\"黑桃\",\"方块\",\"梅花\"]\n",
    "        for char in all_char\n",
    "] + [\"大王\", \"小王\"]"
   ]
  },
  {
   "source": [
    "### 3. 打乱列表顺序（洗牌）"
   ],
   "cell_type": "markdown",
   "metadata": {}
  },
  {
   "cell_type": "code",
   "execution_count": 4,
   "metadata": {},
   "outputs": [],
   "source": [
    "import random\n",
    "random.shuffle(poker_cards)"
   ]
  },
  {
   "source": [
    "### 4. 打乱后的列表按17等量切片（发牌）"
   ],
   "cell_type": "markdown",
   "metadata": {}
  },
  {
   "cell_type": "code",
   "execution_count": 5,
   "metadata": {},
   "outputs": [],
   "source": [
    "players = [poker_cards[:17], poker_cards[17:34], poker_cards[34:51]]"
   ]
  },
  {
   "source": [
    "### 5. 打印结果"
   ],
   "cell_type": "markdown",
   "metadata": {}
  },
  {
   "cell_type": "code",
   "execution_count": 6,
   "metadata": {},
   "outputs": [
    {
     "output_type": "stream",
     "name": "stdout",
     "text": [
      "底牌: 梅花5、梅花6、黑桃2、黑桃10、方块8、方块3、黑桃8、梅花7、梅花8、方块K、梅花10、红桃6、红桃A、方块Q、黑桃J、方块4、方块10、方块7、红桃2、方块5、红桃9、黑桃A、黑桃7、梅花K、方块J、梅花J、红桃8、梅花2、黑桃K、黑桃4、红桃4、梅花3、红桃K、红桃5、方块6、黑桃9、方块2、大王、红桃J、方块9、梅花9、黑桃6、梅花A、红桃Q、梅花4、黑桃5、黑桃3、红桃10、梅花Q、小王、方块A、黑桃Q、红桃7、红桃3\n玩家1的牌: 梅花5、梅花6、黑桃2、黑桃10、方块8、方块3、黑桃8、梅花7、梅花8、方块K、梅花10、红桃6、红桃A、方块Q、黑桃J、方块4、方块10\n玩家2的牌: 方块7、红桃2、方块5、红桃9、黑桃A、黑桃7、梅花K、方块J、梅花J、红桃8、梅花2、黑桃K、黑桃4、红桃4、梅花3、红桃K、红桃5\n玩家3的牌: 方块6、黑桃9、方块2、大王、红桃J、方块9、梅花9、黑桃6、梅花A、红桃Q、梅花4、黑桃5、黑桃3、红桃10、梅花Q、小王、方块A\n"
     ]
    }
   ],
   "source": [
    "print(f\"底牌: {'、'.join(poker_cards)}\")\n",
    "print(f\"玩家1的牌: {'、'.join(players[0])}\")\n",
    "print(f\"玩家2的牌: {'、'.join(players[1])}\")\n",
    "print(f\"玩家3的牌: {'、'.join(players[2])}\")"
   ]
  }
 ]
}