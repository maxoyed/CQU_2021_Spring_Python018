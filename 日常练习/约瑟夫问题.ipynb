{
 "cells": [
  {
   "cell_type": "markdown",
   "metadata": {},
   "source": [
    "#### 问题描述\n",
    "\n",
    "m人围成一圈，从第一人开始报数，报到第n人出列，n小于等于m,一直循环下去，给出出列的序列。"
   ]
  },
  {
   "cell_type": "code",
   "execution_count": 159,
   "metadata": {},
   "outputs": [
    {
     "name": "stdin",
     "output_type": "stream",
     "text": [
      "m: 6\n",
      "n: 3\n"
     ]
    }
   ],
   "source": [
    "m = int(input(\"m:\"))\n",
    "n = int(input(\"n:\"))"
   ]
  },
  {
   "cell_type": "code",
   "execution_count": 189,
   "metadata": {},
   "outputs": [],
   "source": [
    "m_queue = list(range(1, m + 1))"
   ]
  },
  {
   "cell_type": "markdown",
   "metadata": {},
   "source": [
    "#### 解法1\n",
    "时间复杂度低"
   ]
  },
  {
   "cell_type": "code",
   "execution_count": 163,
   "metadata": {
    "collapsed": true,
    "jupyter": {
     "outputs_hidden": true
    }
   },
   "outputs": [
    {
     "name": "stdout",
     "output_type": "stream",
     "text": [
      "3\n",
      "6\n",
      "4\n",
      "2\n"
     ]
    }
   ],
   "source": [
    "index = 0\n",
    "while True:\n",
    "    if len(m_queue) < n:\n",
    "        break\n",
    "    index += n - 1\n",
    "    if index > len(m_queue) - 1:\n",
    "        index = index % (len(m_queue))\n",
    "    print(m_queue[index])\n",
    "    del m_queue[index]"
   ]
  },
  {
   "cell_type": "markdown",
   "metadata": {},
   "source": [
    "#### 解法2\n",
    "暴力循环，时间复杂度高"
   ]
  },
  {
   "cell_type": "code",
   "execution_count": 190,
   "metadata": {
    "collapsed": true,
    "jupyter": {
     "outputs_hidden": true
    }
   },
   "outputs": [
    {
     "name": "stdout",
     "output_type": "stream",
     "text": [
      "count: 1, index: 0, list: [1, 2, 3, 4, 5, 6]\n",
      "count: 2, index: 1, list: [1, 2, 3, 4, 5, 6]\n",
      "count: 3, index: 2, list: [1, 2, 3, 4, 5, 6]\n",
      "del index:2  item:3\n",
      "\n",
      "count: 1, index: 2, list: [1, 2, 4, 5, 6]\n",
      "count: 2, index: 3, list: [1, 2, 4, 5, 6]\n",
      "count: 3, index: 4, list: [1, 2, 4, 5, 6]\n",
      "del index:4  item:6\n",
      "\n",
      "count: 1, index: 0, list: [1, 2, 4, 5]\n",
      "count: 2, index: 1, list: [1, 2, 4, 5]\n",
      "count: 3, index: 2, list: [1, 2, 4, 5]\n",
      "del index:2  item:4\n",
      "\n",
      "count: 1, index: 2, list: [1, 2, 5]\n",
      "count: 2, index: 0, list: [1, 2, 5]\n",
      "count: 3, index: 1, list: [1, 2, 5]\n",
      "del index:1  item:2\n",
      "\n"
     ]
    }
   ],
   "source": [
    "count = 1\n",
    "index = 0\n",
    "while True:\n",
    "    print(f\"count: {count}, index: {index}, list: {m_queue}\")\n",
    "    if count == n:\n",
    "        print(f\"del index:{index}  item:{m_queue[index]}\\n\")\n",
    "        del m_queue[index]\n",
    "        count = 0\n",
    "        index -= 1\n",
    "    if index == len(m_queue) - 1:\n",
    "        index = -1\n",
    "    if len(m_queue) < n:\n",
    "        break\n",
    "    count += 1\n",
    "    index += 1"
   ]
  }
 ],
 "metadata": {
  "kernelspec": {
   "display_name": "Python 3",
   "language": "python",
   "name": "python3"
  },
  "language_info": {
   "codemirror_mode": {
    "name": "ipython",
    "version": 3
   },
   "file_extension": ".py",
   "mimetype": "text/x-python",
   "name": "python",
   "nbconvert_exporter": "python",
   "pygments_lexer": "ipython3",
   "version": "3.8.4"
  }
 },
 "nbformat": 4,
 "nbformat_minor": 4
}