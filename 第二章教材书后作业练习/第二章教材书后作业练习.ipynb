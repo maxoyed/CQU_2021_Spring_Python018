{
 "metadata": {
  "language_info": {
   "codemirror_mode": {
    "name": "ipython",
    "version": 3
   },
   "file_extension": ".py",
   "mimetype": "text/x-python",
   "name": "python",
   "nbconvert_exporter": "python",
   "pygments_lexer": "ipython3",
   "version": "3.8.5"
  },
  "orig_nbformat": 2,
  "kernelspec": {
   "name": "python385jvsc74a57bd01de37f86fb5a69df8549b4345a566b0f5ed5dc9a9028b5b2fbf198723682cd66",
   "display_name": "Python 3.8.5 64-bit ('3.8.5': pyenv)"
  },
  "metadata": {
   "interpreter": {
    "hash": "1de37f86fb5a69df8549b4345a566b0f5ed5dc9a9028b5b2fbf198723682cd66"
   }
  }
 },
 "nbformat": 4,
 "nbformat_minor": 2,
 "cells": [
  {
   "source": [
    "## 编程题"
   ],
   "cell_type": "markdown",
   "metadata": {}
  },
  {
   "source": [
    "### 1. 小写到大写的转换\n",
    "\n",
    "【问题描述】\n",
    "\n",
    "从键盘读取一个英文字符串，将其转换为大写，然后输出。\n",
    "\n",
    "【输入形式】\n",
    "\n",
    "英文字符串，可以包括英文字符，数字及符号。\n",
    "\n",
    "【输出形式】\n",
    "\n",
    "转换为大写后的英文字符串。\n",
    "\n",
    "【样例输入】\n",
    "\n",
    "cvoid2020\n",
    "\n",
    "【样例输出】\n",
    "\n",
    "CVOID2020"
   ],
   "cell_type": "markdown",
   "metadata": {}
  },
  {
   "cell_type": "code",
   "execution_count": 1,
   "metadata": {},
   "outputs": [
    {
     "output_type": "stream",
     "name": "stdout",
     "text": [
      "COVOID2020\n"
     ]
    }
   ],
   "source": [
    "str_raw = input()\n",
    "print(str_raw.upper())"
   ]
  },
  {
   "source": [
    "### 2. My favorite sports are as follows\n",
    "\n",
    "【问题描述】\n",
    "\n",
    "按照以下格式打印输出。\n",
    "\n",
    "【样例输入】\n",
    "\n",
    "无\n",
    "\n",
    "【样例输出】\n",
    "\n",
    "```bash\n",
    "My favorite sports are as follows:\n",
    "    football\n",
    "    table tennis\n",
    "    badminton\n",
    "    swimming\n",
    "    running\n",
    "```\n",
    "\n",
    "【样例说明】\n",
    "\n",
    "第2 - 6行相较于第1行多一个制表符\\t。符号皆英文符号。"
   ],
   "cell_type": "markdown",
   "metadata": {}
  },
  {
   "cell_type": "code",
   "execution_count": 5,
   "metadata": {},
   "outputs": [
    {
     "output_type": "stream",
     "name": "stdout",
     "text": [
      "My favorite sports are as follows:\n\tfootball\n\ttable tennis\n\tbadminton\n\tswimming\n\trunning\n"
     ]
    }
   ],
   "source": [
    "fav_sports = ['football', 'table tennis', 'badminton', 'swimming', 'running']\n",
    "print('My favorite sports are as follows:')\n",
    "for sport in fav_sports:\n",
    "    print(f'\\t{sport}')"
   ]
  },
  {
   "source": [
    "### 3. Life is short,I want to learn python!\n",
    "\n",
    "【问题描述】\n",
    "\n",
    "将信息“Life is short,I want to learn python!”赋值给变量m，再将其打印输出。\n",
    "\n",
    "【样例输入】\n",
    "\n",
    "无\n",
    "\n",
    "【样例输出】\n",
    "\n",
    "Life is short,I want to learn python!\n",
    "\n",
    "【样例说明】\n",
    "标点符号均为英文符号。"
   ],
   "cell_type": "markdown",
   "metadata": {}
  },
  {
   "cell_type": "code",
   "execution_count": 6,
   "metadata": {},
   "outputs": [
    {
     "output_type": "stream",
     "name": "stdout",
     "text": [
      "Life is short,I want to learn python!\n"
     ]
    }
   ],
   "source": [
    "m = 'Life is short,I want to learn python!'\n",
    "print(m)"
   ]
  },
  {
   "source": [
    "### 4. 成功就是从失败到失败，也依然不改热情！\n",
    "\n",
    "【问题描述】\n",
    "\n",
    "使用print( )函数打印输出下述内容。\n",
    "\n",
    "Winston Churchill:\"Success consists of going from failure to failure without loss of enthusiasm.\"\n",
    "\n",
    "【样例输出】\n",
    "\n",
    "Winston Churchill:\"Success consists of going from failure to failure without loss of enthusiasm.\""
   ],
   "cell_type": "markdown",
   "metadata": {}
  },
  {
   "cell_type": "code",
   "execution_count": 7,
   "metadata": {},
   "outputs": [
    {
     "output_type": "stream",
     "name": "stdout",
     "text": [
      "Winston Churchill:\"Success consists of going from failure to failure without loss of enthusiasm.\"\n"
     ]
    }
   ],
   "source": [
    "print('Winston Churchill:\"Success consists of going from failure to failure without loss of enthusiasm.\"')"
   ]
  },
  {
   "source": [
    "## 单选题"
   ],
   "cell_type": "markdown",
   "metadata": {}
  },
  {
   "source": [
    "### 1.\n",
    "\n",
    "```python\n",
    "sName1 = \"john miller\"\n",
    "print(\"1:\",sName1.upper())\n",
    "print(\"2:\",sName1)\n",
    "```\n",
    "执行结果第一行：A\n",
    "\n",
    "执行结果第一行：B\n",
    "\n",
    "A. 1: JOHN MILLER\n",
    "\n",
    "B. 2: john miller"
   ],
   "cell_type": "markdown",
   "metadata": {}
  },
  {
   "source": [
    "### 2. 下述程序的执行结果是：D\n",
    "\n",
    "```python\n",
    "r = int(True) + int(bool(-0.0000001)) + int(3 > 2)\n",
    "print(r)\n",
    "```\n",
    "\n",
    "A. 2\n",
    "\n",
    "B. 1\n",
    "\n",
    "C. 5\n",
    "\n",
    "D. 3"
   ],
   "cell_type": "markdown",
   "metadata": {}
  },
  {
   "source": [
    "### 3. 请选出下述Python变量命名中2个正确的命名：C D\n",
    "\n",
    "A. M-32\n",
    "\n",
    "B. 3K1\n",
    "\n",
    "C. iLength\n",
    "\n",
    "D. _Width\n",
    "\n",
    "E. else"
   ],
   "cell_type": "markdown",
   "metadata": {}
  },
  {
   "source": [
    "### 4. \n",
    "\n",
    "```python\n",
    "s = \"\\\"Programming\\\" itself is the best way to learn programming.\\n\\t---Nobody.\"\n",
    "print(s.strip())\n",
    "```\n",
    "\n",
    "执行结果第1行：A\n",
    "\n",
    "执行结果第2行：B\n",
    "\n",
    "A. \"Programming\" itself is the best way to learn programming.\n",
    "\n",
    "B.           ---Nobody. \n",
    "\n",
    "C.   ---Nobody.\n",
    "\n",
    "D. \\\"Programming\\\" itself is the best way to learn programming."
   ],
   "cell_type": "markdown",
   "metadata": {}
  }
 ]
}