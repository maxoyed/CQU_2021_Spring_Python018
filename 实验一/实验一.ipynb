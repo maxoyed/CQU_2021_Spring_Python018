{
 "cells": [
  {
   "cell_type": "markdown",
   "metadata": {},
   "source": [
    "# 实验一"
   ]
  },
  {
   "cell_type": "markdown",
   "metadata": {},
   "source": [
    "## 编程题"
   ]
  },
  {
   "cell_type": "markdown",
   "metadata": {},
   "source": [
    "### 3. I love Python\n",
    "\n",
    "#### 问题描述\n",
    "\n",
    "将字符串\"Life is hard, you need Python!\"赋给变量str1，再将其打印输出。\n",
    "\n",
    "#### 样例输出\n",
    "\n",
    "Life is hard, you need Python!"
   ]
  },
  {
   "cell_type": "code",
   "execution_count": 1,
   "metadata": {},
   "outputs": [
    {
     "name": "stdout",
     "output_type": "stream",
     "text": [
      "Life is hard, you need Python!\n"
     ]
    }
   ],
   "source": [
    "str1 = \"Life is hard, you need Python!\"\n",
    "print(str1)"
   ]
  },
  {
   "cell_type": "markdown",
   "metadata": {},
   "source": [
    "### 4. 成功就是从失败到失败，也依然不改热情！\n",
    "\n",
    "#### 问题描述\n",
    "\n",
    "使用print( )函数打印输出下述内容。\n",
    "\n",
    "Winston Churchill:\"Success consists of going from failure to failure without loss of enthusiasm.\"\n",
    "\n",
    "#### 样例输出\n",
    "\n",
    "Winston Churchill:\"Success consists of going from failure to failure without loss of enthusiasm.\""
   ]
  },
  {
   "cell_type": "code",
   "execution_count": 3,
   "metadata": {},
   "outputs": [
    {
     "name": "stdout",
     "output_type": "stream",
     "text": [
      "Winston Churchill:\"Success consists of going from failure to failure without loss of enthusiasm.\"\n"
     ]
    }
   ],
   "source": [
    "print('Winston Churchill:\"Success consists of going from failure to failure without loss of enthusiasm.\"')"
   ]
  },
  {
   "cell_type": "markdown",
   "metadata": {},
   "source": [
    "### 5. My favorite sports are as follows\n",
    "\n",
    "#### 问题描述\n",
    "\n",
    "按照以下格式打印输出。\n",
    "\n",
    "#### 样例输入\n",
    "\n",
    "无\n",
    "\n",
    "#### 样例输出\n",
    "\n",
    "```bash\n",
    "My favorite sports are as follows:\n",
    "    football\n",
    "    table tennis\n",
    "    badminton\n",
    "    swimming\n",
    "    running\n",
    "```\n",
    "\n",
    "#### 样例说明\n",
    "\n",
    "第2 - 6行相较于第1行多一个制表符\\t。符号皆英文符号。"
   ]
  },
  {
   "cell_type": "code",
   "execution_count": 6,
   "metadata": {},
   "outputs": [
    {
     "name": "stdout",
     "output_type": "stream",
     "text": [
      "\n",
      "My favorite sports are as follows:\n",
      "    football\n",
      "    table tennis\n",
      "    badminton\n",
      "    swimming\n",
      "    running\n",
      "\n"
     ]
    }
   ],
   "source": [
    "print(\"\"\"\n",
    "My favorite sports are as follows:\n",
    "    football\n",
    "    table tennis\n",
    "    badminton\n",
    "    swimming\n",
    "    running\n",
    "\"\"\")"
   ]
  },
  {
   "cell_type": "markdown",
   "metadata": {},
   "source": [
    "### 6. Life is short, I want to learn python\n",
    "\n",
    "#### 问题描述\n",
    "\n",
    "将信息“Life is short,I want to learn python!”赋值给变量m，再将其打印输出。\n",
    "\n",
    "#### 样例输入\n",
    "\n",
    "无\n",
    "\n",
    "#### 样例输出\n",
    "\n",
    "Life is short,I want to learn python!\n",
    "\n",
    "#### 样例说明\n",
    "\n",
    "标点符号均为英文符号。"
   ]
  },
  {
   "cell_type": "code",
   "execution_count": 8,
   "metadata": {},
   "outputs": [
    {
     "name": "stdout",
     "output_type": "stream",
     "text": [
      "Life is short,I want to learn python!\n"
     ]
    }
   ],
   "source": [
    "m = \"Life is short,I want to learn python!\"\n",
    "print(m)"
   ]
  },
  {
   "cell_type": "markdown",
   "metadata": {},
   "source": [
    "### 10. 美元人民币转换\n",
    "\n",
    "#### 问题描述\n",
    "\n",
    "以下是一段温度转换程序，可以实现华氏温度和摄氏温度的转换，请自行阅读程序，在理解程序的基础上，仿照此程序，写一个人民币和美元之间的货币转换程序。\n",
    "\n",
    "该程序实现以下功能：\n",
    "\n",
    "示例：\n",
    "\n",
    "```bash\n",
    "输入212F      输出100.00C\n",
    "\n",
    "输入100c      输出212.00F\n",
    "\n",
    "输入不符合格式要求，输出“Error”\n",
    "```\n",
    "\n",
    "```python\n",
    "TempStr = input()\n",
    "if TempStr[-1] in ['F','f']:\n",
    "    C = (eval(TempStr[0:-1]) - 32)/1.8\n",
    "    print(\"%.2fC\"%(C))\n",
    "elif TempStr[-1] in ['C','c']:\n",
    "    F = 1.8*eval(TempStr[0:-1]) + 32\n",
    "    print(\"%.2fF\"%(F))\n",
    "else:\n",
    "    print(\"Error\")\n",
    "```\n",
    "\n",
    "人民币和美元是世界上通用的两种货币之一，写一个程序进行货币间币值转换，其中：人民币和美元间汇率固定为：1美元 = 6.78人民币。\n",
    "\n",
    "程序可以接受人民币或美元输入，转换为美元或人民币输出。人民币采用&符号或RMB表示，美元采用$或USD表示，符号和数值之间没有空格。\n",
    "\n",
    "注意：人民币和美元间符号在转换中要对等，&和$相互对应，RMB和USD相互对应。\n",
    "\n",
    "#### 输入形式\n",
    "\n",
    "美元或人民币\n",
    "\n",
    "#### 输出形式\n",
    "\n",
    "转换后的人民币或美元，保留两位小数\n",
    "\n",
    "输入不符合格式要求，输出“Error”\n",
    "\n",
    "#### 样例输入1\n",
    "\n",
    "```bash\n",
    "$128.00\n",
    "```\n",
    "\n",
    "#### 样例输出1\n",
    "\n",
    "```bash\n",
    "&867.84\n",
    "```\n",
    "\n",
    "#### 样例输入2\n",
    "\n",
    "```bash\n",
    "&12.9\n",
    "```\n",
    "\n",
    "#### 样例输出2\n",
    "\n",
    "```bash\n",
    "$1.90\n",
    "```\n",
    "\n",
    "#### 样例输入3\n",
    "\n",
    "```bash\n",
    "RMB123\n",
    "```\n",
    "\n",
    "#### 样例输出3\n",
    "\n",
    "```bash\n",
    "USD18.14\n",
    "```\n",
    "\n",
    "#### 样例输入4\n",
    "\n",
    "```bash\n",
    "USD18.14\n",
    "```\n",
    "\n",
    "#### 样例输出4\n",
    "\n",
    "```bash\n",
    "RMB122.99\n",
    "```"
   ]
  },
  {
   "cell_type": "code",
   "execution_count": 21,
   "metadata": {},
   "outputs": [
    {
     "name": "stdin",
     "output_type": "stream",
     "text": [
      " $128\n"
     ]
    },
    {
     "name": "stdout",
     "output_type": "stream",
     "text": [
      "&867.84\n"
     ]
    }
   ],
   "source": [
    "exchange_rate = 6.78\n",
    "currency = input()\n",
    "first_char = currency[0]\n",
    "\n",
    "if first_char in [\"&\", \"$\"]:\n",
    "    if first_char == \"&\":\n",
    "        result = float(currency[1:]) / exchange_rate\n",
    "        print(f\"${result:.2f}\")\n",
    "    else:\n",
    "        result = float(currency[1:]) * exchange_rate\n",
    "        print(f\"&{result:.2f}\")\n",
    "elif first_char in [\"R\", \"U\"]:\n",
    "    if first_char == \"R\":\n",
    "        result = float(currency[3:]) / exchange_rate\n",
    "        print(f\"USD{result:.2f}\")\n",
    "    else:\n",
    "        result = float(currency[3:]) * exchange_rate\n",
    "        print(f\"RMB{result:.2f}\")\n",
    "else:\n",
    "    print(\"Error\")\n",
    "    "
   ]
  }
 ],
 "metadata": {
  "kernelspec": {
   "display_name": "Python 3",
   "language": "python",
   "name": "python3"
  },
  "language_info": {
   "codemirror_mode": {
    "name": "ipython",
    "version": 3
   },
   "file_extension": ".py",
   "mimetype": "text/x-python",
   "name": "python",
   "nbconvert_exporter": "python",
   "pygments_lexer": "ipython3",
   "version": "3.8.4"
  }
 },
 "nbformat": 4,
 "nbformat_minor": 4
}
