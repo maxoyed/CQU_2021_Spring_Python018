{
 "cells": [
  {
   "cell_type": "markdown",
   "metadata": {},
   "source": [
    "## 编程题"
   ]
  },
  {
   "cell_type": "markdown",
   "metadata": {},
   "source": [
    "### 1. 评奖系统\n",
    "\n",
    "#### 问题描述\n",
    "\n",
    "编程实现学校评奖系统，\n",
    "\n",
    "1. 如果数学成绩大于等于99并且语文成绩大于等于99，获奖学金500。\n",
    "\n",
    "2. 如果数学和语文成绩都小于30，输出重修。\n",
    "\n",
    "\n",
    "#### 输入形式\n",
    "\n",
    "语文成绩\n",
    "\n",
    "数学成绩\n",
    "\n",
    "\n",
    "#### 输出形式\n",
    "\n",
    "1. 如果数学和语文成绩都大于等于99，输出: You won a scholarship of 500 yuan!\n",
    "\n",
    "2. 如果数学和语文成绩都小于30，输出: You need to relearn!\n",
    "\n",
    "\n",
    "#### 样例输入\n",
    "\n",
    "```bash\n",
    "100\n",
    "99\n",
    "```\n",
    "\n",
    "#### 样例输出\n",
    "\n",
    "```bash\n",
    "You won a scholarship of 500 yuan\n",
    "```"
   ]
  },
  {
   "cell_type": "code",
   "execution_count": 199,
   "metadata": {},
   "outputs": [
    {
     "name": "stdin",
     "output_type": "stream",
     "text": [
      " 100\n",
      " 100\n"
     ]
    },
    {
     "name": "stdout",
     "output_type": "stream",
     "text": [
      "You won a scholarship of 500 yuan!\n"
     ]
    }
   ],
   "source": [
    "# input language and math score\n",
    "language = int(input())\n",
    "math = int(input())\n",
    "if language >= 99 and math >= 99:\n",
    "    print(\"You won a scholarship of 500 yuan!\")\n",
    "if language < 30 and math  < 30:\n",
    "    print(\"You need to relearn!\")"
   ]
  },
  {
   "cell_type": "markdown",
   "metadata": {},
   "source": [
    "### 2.数字是否整除判断\n",
    "\n",
    "#### 问题描述\n",
    "\n",
    "编写一个程序，请用户输入一个整数，判断这个数是否能够被2或者5整除，但是不能同时被2或者5整除，如果能则输出\"True\",不能则输出“False”\n",
    "\n",
    "#### 输入形式\n",
    "\n",
    "整数\n",
    "\n",
    "#### 输出形式\n",
    "\n",
    "布尔值\n",
    "\n",
    "#### 样例输入\n",
    "\n",
    "```bash\n",
    "12\n",
    "```\n",
    "\n",
    "#### 样例输出\n",
    "\n",
    "```bash\n",
    "True\n",
    "```"
   ]
  },
  {
   "cell_type": "code",
   "execution_count": 210,
   "metadata": {},
   "outputs": [
    {
     "name": "stdin",
     "output_type": "stream",
     "text": [
      " 5\n"
     ]
    },
    {
     "name": "stdout",
     "output_type": "stream",
     "text": [
      "True\n"
     ]
    }
   ],
   "source": [
    "# input an integer\n",
    "number = int(input())\n",
    "if number % 2 == 0 and number % 5 == 0:\n",
    "    print(False)\n",
    "elif number % 2 != 0 and number % 5 != 0:\n",
    "    print(False)\n",
    "else:\n",
    "    print(True)"
   ]
  },
  {
   "cell_type": "markdown",
   "metadata": {},
   "source": [
    "### 3.成绩转换\n",
    "\n",
    "#### 问题描述\n",
    "\n",
    "本题要求编写程序输入一个百分制成绩并把其转换为五分制成绩输出。\n",
    "\n",
    "转换规则为：\n",
    "\n",
    "大于等于90分为A； 小于90且大于等于80为B； 小于80且大于等于70为C； 小于70且大于等于60为D； 小于60为E。\n",
    "\n",
    "#### 输入形式\n",
    "\n",
    "输入只有一个百分制成绩，如98.5\n",
    "\n",
    "#### 输出形式\n",
    "\n",
    "输出对应的五分制成绩，如A\n",
    "\n",
    "#### 样例输入1\n",
    "\n",
    "```bash\n",
    "67\n",
    "```\n",
    "\n",
    "#### 样例输出1\n",
    "\n",
    "```bash\n",
    "D\n",
    "```\n",
    "\n",
    "#### 样例输入2\n",
    "\n",
    "```bash\n",
    "94.5\n",
    "```\n",
    "\n",
    "#### 样例输出2\n",
    "\n",
    "```bash\n",
    "A\n",
    "```"
   ]
  },
  {
   "cell_type": "code",
   "execution_count": null,
   "metadata": {},
   "outputs": [],
   "source": [
    "# input score\n",
    "score = float(input())\n",
    "if score >= 90:\n",
    "    print(\"A\")\n",
    "elif score >= 80 and score < 90:\n",
    "    print(\"B\")\n",
    "elif score >= 70 and score < 80:\n",
    "    print(\"C\")\n",
    "elif score >= 60 and score <  70:\n",
    "    print(\"D\")\n",
    "else:\n",
    "    print(\"E\")"
   ]
  },
  {
   "cell_type": "markdown",
   "metadata": {},
   "source": [
    "### 4.判断正方形\n",
    "\n",
    "#### 问题描述\n",
    "\n",
    "输入一个方形的长度和宽度，编写程序判断该方形是否为正方形（长和宽都应大于0）\n",
    "\n",
    "#### 输入形式\n",
    "\n",
    "长度\n",
    "\n",
    "宽度\n",
    "\n",
    "#### 输出形式\n",
    "\n",
    "1. 如果长度等于宽度，输出：It's a square\n",
    "\n",
    "2. 如果长度不等于宽度，输出：It's a rectangle\n",
    "\n",
    "3. 如果长或宽有小于0的，输出：illegal data\n",
    "\n",
    "#### 样例输入1\n",
    "\n",
    "```bash\n",
    "10\n",
    "10\n",
    "```\n",
    "\n",
    "#### 样例输出1\n",
    "\n",
    "```bash\n",
    "It's a square\n",
    "```\n",
    "\n",
    "#### 样例输入2\n",
    "\n",
    "```bash\n",
    "-2\n",
    "10\n",
    "```\n",
    "\n",
    "#### 样例输出2\n",
    "\n",
    "```bash\n",
    "illegal data\n",
    "```"
   ]
  },
  {
   "cell_type": "code",
   "execution_count": 7,
   "metadata": {},
   "outputs": [
    {
     "name": "stdin",
     "output_type": "stream",
     "text": [
      " 2.5\n",
      " 2.5\n"
     ]
    },
    {
     "name": "stdout",
     "output_type": "stream",
     "text": [
      "It's a square\n"
     ]
    }
   ],
   "source": [
    "# input length and width\n",
    "length = float(input())\n",
    "width = float(input())\n",
    "\n",
    "if length <= 0 or width <= 0:\n",
    "    print(\"illegal data\")\n",
    "elif length == width:\n",
    "    print(\"It's a square\")\n",
    "else:\n",
    "    print(\"It's a rectangle\")"
   ]
  },
  {
   "cell_type": "markdown",
   "metadata": {},
   "source": [
    "### 5.多分支判断整除\n",
    "\n",
    "#### 问题描述\n",
    "\n",
    "输入一个整数，判断它是否能被5、7、11同时整除，若不能，则判断它是否能被5、7、11分别整除。\n",
    "\n",
    "#### 输入形式\n",
    "\n",
    "整数\n",
    "\n",
    "#### 输出形式\n",
    "\n",
    "整数 can divided by 5,7 and 11.\n",
    "\n",
    "或者 \n",
    "\n",
    "整数 can divided by 5,（7，11）\n",
    "\n",
    "或者\n",
    "\n",
    "整数 can not divided by 5,7 or 11.\n",
    "\n",
    "#### 样例输入1\n",
    "\n",
    "```bash\n",
    "770\n",
    "```\n",
    "\n",
    "#### 样例输出1\n",
    "\n",
    "```bash\n",
    "770 can divided by 5,7 and 11.\n",
    "```\n",
    "\n",
    "#### 样例输入2\n",
    "\n",
    "```bash\n",
    "16\n",
    "```\n",
    "\n",
    "#### 样例输出3\n",
    "\n",
    "```bash\n",
    "16 can not divided by 5,7 or 11.\n",
    "```\n",
    "\n",
    "#### 样例输入3\n",
    "\n",
    "```bash\n",
    "35\n",
    "```\n",
    "\n",
    "#### 样例输出3\n",
    "\n",
    "```bash\n",
    "35 can divided by 5.\n",
    "35 can divided by 7.\n",
    "```"
   ]
  },
  {
   "cell_type": "code",
   "execution_count": 11,
   "metadata": {},
   "outputs": [
    {
     "name": "stdin",
     "output_type": "stream",
     "text": [
      " 35\n"
     ]
    },
    {
     "name": "stdout",
     "output_type": "stream",
     "text": [
      "35 can divided by 5.\n",
      "35 can divided by 7.\n"
     ]
    }
   ],
   "source": [
    "# input an integer\n",
    "number = int(input())\n",
    "\n",
    "if number % (5*7*11) == 0:\n",
    "    print(f\"{number} can divided by 5,7 and 11.\")\n",
    "elif number % 5 != 0 and number % 7 != 0 and number % 11 != 0:\n",
    "    print(f\"{number} can not divided by 5,7 or 11.\")\n",
    "else:\n",
    "    if number % 5 == 0:\n",
    "        print(f\"{number} can divided by 5.\")\n",
    "    if number % 7 == 0:\n",
    "        print(f\"{number} can divided by 7.\")\n",
    "    if number % 11 == 0:\n",
    "        print(f\"{number} can divided by 11.\")"
   ]
  },
  {
   "cell_type": "markdown",
   "metadata": {},
   "source": [
    "### 6.超市计费\n",
    "\n",
    "#### 问题描述\n",
    "\n",
    "某超市为了促销，规定：购物不足50元的按原价付款，大于等于50小于100的按九折付款，大于100元的，100元按九折付款，超过100的部分按八折付款。编一个程序完成超市的自动计费工作。\n",
    "\n",
    "#### 输入形式\n",
    "\n",
    "购物款项（大于0的数字类型）\n",
    "\n",
    "#### 输出形式\n",
    "\n",
    "应付款\n",
    "\n",
    "#### 样例输入\n",
    "\n",
    "```bash\n",
    "120\n",
    "```\n",
    "\n",
    "#### 样例输出\n",
    "\n",
    "```bash\n",
    "106.0\n",
    "```"
   ]
  },
  {
   "cell_type": "code",
   "execution_count": 12,
   "metadata": {},
   "outputs": [
    {
     "name": "stdin",
     "output_type": "stream",
     "text": [
      " 120\n"
     ]
    },
    {
     "name": "stdout",
     "output_type": "stream",
     "text": [
      "106.0\n"
     ]
    }
   ],
   "source": [
    "# input amount\n",
    "amount = float(input())\n",
    "\n",
    "if amount < 50:\n",
    "    print(amount)\n",
    "elif amount >= 50 and amount < 100:\n",
    "    print(amount * 0.9)\n",
    "else:\n",
    "    print(100 * 0.9 + (amount - 100) * 0.8)"
   ]
  },
  {
   "cell_type": "markdown",
   "metadata": {},
   "source": [
    "### 7.计算货物税金\n",
    "\n",
    "\n",
    "#### 问题描述\n",
    "\n",
    "对一批货物征收税金。价格在1万元及以上的货物征税5%； 在5000元及以上，1万元以下的货物征税3%； 在1000元及以上，5000元以下的货物征税2%； 1000元以下的货物免税。 编写一程序，读入货物价格，计算并输出税金。\n",
    "\n",
    "#### 输入形式\n",
    "\n",
    "货物价格（正数）\n",
    "\n",
    "#### 输出形式\n",
    "\n",
    "税金（保留小数点后2位）\n",
    "\n",
    "#### 样例输入\n",
    "\n",
    "```bash\n",
    "3500\n",
    "```\n",
    "\n",
    "#### 样例输出\n",
    "\n",
    "```bash\n",
    "70.00\n",
    "```"
   ]
  },
  {
   "cell_type": "code",
   "execution_count": 31,
   "metadata": {},
   "outputs": [
    {
     "name": "stdin",
     "output_type": "stream",
     "text": [
      " 3500\n"
     ]
    },
    {
     "name": "stdout",
     "output_type": "stream",
     "text": [
      "70.00\n"
     ]
    }
   ],
   "source": [
    "price = float(input())\n",
    "total_tax = None\n",
    "\n",
    "if price < 1000:\n",
    "    total_tax = 0\n",
    "elif price >= 1000 and price < 5000:\n",
    "    total_tax = price * 0.02\n",
    "elif price >= 5000 and price < 10000:\n",
    "    total_tax = price * 0.03\n",
    "else:\n",
    "    total_tax = price * 0.05\n",
    "\n",
    "print(\"%.2f\" % total_tax)"
   ]
  },
  {
   "cell_type": "markdown",
   "metadata": {},
   "source": [
    "## 程序片段编程题"
   ]
  },
  {
   "cell_type": "markdown",
   "metadata": {},
   "source": [
    "### 1.判断是否中奖\n",
    "\n",
    "#### 问题描述\n",
    "\n",
    "请用户输入3个整数，若其中有两个值相等，则提示中奖，否则提示谢谢参与\n",
    "\n",
    "#### 输入形式\n",
    "\n",
    "数字1,数字2, 数字3\n",
    "\n",
    "#### 输出形式\n",
    "\n",
    "WIN! or Thank You!\n",
    "\n",
    "#### 样例输入\n",
    "\n",
    "```bash\n",
    "10,10,8\n",
    "```\n",
    "\n",
    "#### 样例输出\n",
    "\n",
    "```bash\n",
    "WIN!\n",
    "```\n",
    "\n",
    "#### 请用户输入3个整数，若其中有两个值相等，则提示中奖，否则提示谢谢参与\n",
    "\n",
    "```python\n",
    "number_a,number_b,number_c  =eval(input())\n",
    "number_a=int(number_a)\n",
    "number_b=int(number_b)\n",
    "number_c=int(number_c)\n",
    "# blank start\n",
    "# blank end\n",
    "        print(\"WIN!\")\n",
    "else:\n",
    "        print(\"Thank  You!\")\n",
    "```"
   ]
  },
  {
   "cell_type": "code",
   "execution_count": 34,
   "metadata": {},
   "outputs": [
    {
     "name": "stdin",
     "output_type": "stream",
     "text": [
      " 1,1,1\n"
     ]
    },
    {
     "name": "stdout",
     "output_type": "stream",
     "text": [
      "WIN!\n"
     ]
    }
   ],
   "source": [
    "number_a,number_b,number_c  =eval(input())\n",
    "number_a=int(number_a)\n",
    "number_b=int(number_b)\n",
    "number_c=int(number_c)\n",
    "# blank start\n",
    "if number_a == number_b or number_b == number_c or number_c == number_a:\n",
    "# blank end\n",
    "        print(\"WIN!\")\n",
    "else:\n",
    "        print(\"Thank  You!\")"
   ]
  },
  {
   "cell_type": "markdown",
   "metadata": {},
   "source": [
    "### 2.年龄分类器\n",
    "\n",
    "#### 问题描述\n",
    "\n",
    "请编写一个程序，根据用户输入的一个人的年龄，程序将判断说明这个人是婴儿、儿童、青年人或者成年人。\n",
    "\n",
    "分类的原则如下：\n",
    "\n",
    "1. 如果此人是1岁甚至更小，则为婴儿(infant)\n",
    "\n",
    "2. 如果此人大于1岁，但小于13岁，则为儿童(child)\n",
    "\n",
    "3. 如果此人至少13岁，但小于20岁，则为青年人(teenager)\n",
    "\n",
    "4. 如果此人至少20岁，则为成年人(adult)\n",
    "\n",
    "如果输入的数小于等于0，则输出“Error”\n",
    "\n",
    "\n",
    "#### 输入形式\n",
    "\n",
    "整数（表示年龄）\n",
    "\n",
    "#### 输出形式\n",
    "\n",
    "infant  or child  or  teenager  or adult  or Error\n",
    "\n",
    "#### 样例输入\n",
    "\n",
    "```bash\n",
    "18\n",
    "```\n",
    "\n",
    "#### 样例输出\n",
    "\n",
    "```bash\n",
    "teenager\n",
    "```\n",
    "\n",
    "#### 样例说明\n",
    "\n",
    "输入不需要提示\n",
    "\n",
    "```python\n",
    "age=#blank\n",
    "\n",
    "if  #blank start\n",
    "        # blank end\n",
    "        print(\"infant\")\n",
    "elif  1<age<13:\n",
    "        print(\"child\")\n",
    "elif  13<=age<20:\n",
    "        print(\"teenager\")\n",
    "elif  age>=20:\n",
    "        print(\"adult\")\n",
    "else:\n",
    "        print(\"Error\")\n",
    "```"
   ]
  },
  {
   "cell_type": "code",
   "execution_count": 41,
   "metadata": {},
   "outputs": [
    {
     "name": "stdin",
     "output_type": "stream",
     "text": [
      " 1\n"
     ]
    },
    {
     "name": "stdout",
     "output_type": "stream",
     "text": [
      "infant\n"
     ]
    }
   ],
   "source": [
    "age = float(input())\n",
    "\n",
    "if  age > 0 and age <= 1:\n",
    "        print(\"infant\")\n",
    "elif  1<age<13:\n",
    "        print(\"child\")\n",
    "elif  13<=age<20:\n",
    "        print(\"teenager\")\n",
    "elif  age>=20:\n",
    "        print(\"adult\")\n",
    "else:\n",
    "        print(\"Error\")"
   ]
  },
  {
   "cell_type": "markdown",
   "metadata": {},
   "source": [
    "### 3.计算个人所得税和工资\n",
    "\n",
    "#### 问题描述\n",
    "\n",
    "应纳个人所得税税额 = 应纳税所得额 × 适用税率 - 速算扣除数\n",
    "\n",
    "扣除标准5000元/月（2019年1月1日起正式执行）（工资、薪金所得适用）\n",
    "\n",
    "个税免征额5000元 　（工资薪金所得适用）\n",
    "\n",
    "|级数全年应纳税所得额|税率(%)|速算扣除数|\n",
    "|--|--|--|\n",
    "|不超过36,000元|3|0|\n",
    "|超过36,000元至144,000元的部分|10|2,520|\n",
    "|超过144,000元至300,000元的部分|20|16,920|\n",
    "|超过300,000元至420,000元的部分|25|31,920|\n",
    "|超过420,000元至660,000元的部分|30|52,920|\n",
    "|超过660,000元至960,000元的部分|35|85,920|\n",
    "|超过960,000元的部分|45|181,920|\n",
    "\n",
    "\n",
    "输入一个人年薪，根据公式，计算出个人所得税，以及税后年薪\n",
    "\n",
    "#### 输入形式\n",
    "\n",
    "年薪\n",
    "\n",
    "#### 输出形式\n",
    "\n",
    "个人所得税\n",
    "\n",
    "税后年薪\n",
    "\n",
    "#### 样例输入\n",
    "\n",
    "```bash\n",
    "180000\n",
    "```\n",
    "\n",
    "#### 样例输出\n",
    "\n",
    "```bash\n",
    "9480.00\n",
    "170520.00\n",
    "```\n",
    "\n",
    "```python\n",
    "salary = float(input())\n",
    "tax = 0.0\n",
    "salary -= 5000*12\n",
    "if salary <= 0:\n",
    "    tax = 0.0\n",
    "elif salary <= 36000:\n",
    "    tax = salary * 0.03\n",
    "elif salary <= 144000:\n",
    "    tax = salary * 0.1 - 2520\n",
    "elif salary <= 300000:\n",
    "    # blank start\n",
    "    # blank end\n",
    "elif salary <= 420000:\n",
    "    tax = salary * 0.25 - 31920\n",
    "elif salary <= 660000:\n",
    "    tax = salary * 0.3 - 52920\n",
    "elif salary <= 960000:\n",
    "    tax = salary * 0.35 - 85920\n",
    "else:\n",
    "    tax = salary * 0.45 - 181920\n",
    "# blank start\n",
    "# blank end\n",
    "print(\"%.2f\" % tax)\n",
    "print(\"%.2f\" % salary)\n",
    "```"
   ]
  },
  {
   "cell_type": "code",
   "execution_count": 45,
   "metadata": {},
   "outputs": [
    {
     "name": "stdin",
     "output_type": "stream",
     "text": [
      " 180000\n"
     ]
    },
    {
     "name": "stdout",
     "output_type": "stream",
     "text": [
      "9480.00\n",
      "170520.00\n"
     ]
    }
   ],
   "source": [
    "salary = float(input())\n",
    "tax = 0.0\n",
    "salary -= 5000*12\n",
    "if salary <= 0:\n",
    "    tax = 0.0\n",
    "elif salary <= 36000:\n",
    "    tax = salary * 0.03\n",
    "elif salary <= 144000:\n",
    "    tax = salary * 0.1 - 2520\n",
    "elif salary <= 300000:\n",
    "    # blank start\n",
    "    tax = salary * 0.2 - 16920\n",
    "    # blank end\n",
    "elif salary <= 420000:\n",
    "    tax = salary * 0.25 - 31920\n",
    "elif salary <= 660000:\n",
    "    tax = salary * 0.3 - 52920\n",
    "elif salary <= 960000:\n",
    "    tax = salary * 0.35 - 85920\n",
    "else:\n",
    "    tax = salary * 0.45 - 181920\n",
    "# blank start\n",
    "salary = salary - tax + 5000 * 12\n",
    "# blank end\n",
    "print(\"%.2f\" % tax)\n",
    "print(\"%.2f\" % salary)"
   ]
  }
 ],
 "metadata": {
  "kernelspec": {
   "display_name": "Python 3",
   "language": "python",
   "name": "python3"
  },
  "language_info": {
   "codemirror_mode": {
    "name": "ipython",
    "version": 3
   },
   "file_extension": ".py",
   "mimetype": "text/x-python",
   "name": "python",
   "nbconvert_exporter": "python",
   "pygments_lexer": "ipython3",
   "version": "3.8.4"
  }
 },
 "nbformat": 4,
 "nbformat_minor": 4
}
